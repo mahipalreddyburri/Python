{
 "cells": [
  {
   "cell_type": "code",
   "execution_count": null,
   "id": "2ab48a21",
   "metadata": {},
   "outputs": [],
   "source": [
    "name,age,sal,male='mahipal',20,2000.5,True\n",
    "print(name,age,sal,male)\n",
    "\n",
    "#name1=input(\"enter your name \")\n",
    "#age1=int(input('age pls '))\n",
    "#sal1=float(input('salary '))\n",
    "#print(name1,' ',age1,' ',sal1,' ',gender1)\n",
    "\n",
    "age1=int(input('age pls '))\n",
    "\n",
    "print (age1)\n",
    "\n",
    "s=age1+20\n",
    "\n",
    "print(s)\n",
    "\n",
    "\n",
    "\n",
    "#a=10\n",
    "#b=20\n",
    "#c=a+b\n",
    "#print(c)"
   ]
  },
  {
   "cell_type": "code",
   "execution_count": null,
   "id": "2c096804",
   "metadata": {},
   "outputs": [],
   "source": [
    "#1.Arthimatic operators\n",
    "a=5\n",
    "b=3\n",
    "print('addition of ',a,' ',b,'is ',a+b)\n",
    "print('subtraction of',a,' ',b,'is ',a-b)\n",
    "print('multiplication of',a,' ',b,'is ',a*b)\n",
    "print('division of',a,' ',b,'is ',a/b)\n",
    "print('power of' ,a,' ',b,'is ',a**b)\n",
    "print('modulus of',a,' ',b,'is ',a%b)\n",
    "print('floor division',a,' ',b,'is ',a//b)\n",
    "\n"
   ]
  },
  {
   "cell_type": "code",
   "execution_count": null,
   "id": "b32f0bb5",
   "metadata": {},
   "outputs": [],
   "source": [
    "#2.Comparision Operators\n",
    "a,b=10,20\n",
    "if(a>b):\n",
    "    print('a is greater than b')\n",
    "else:\n",
    "    print('b is greater than a')\n",
    "\n",
    "c=20\n",
    "d=30\n",
    "print(c>d)#False\n",
    "print(c<d)#True\n",
    "print(c==d)#False\n",
    "print(c!=d)#True\n",
    "print(c>=d)#False\n",
    "print(c<=d)#True"
   ]
  },
  {
   "cell_type": "code",
   "execution_count": null,
   "id": "204a7807",
   "metadata": {},
   "outputs": [],
   "source": [
    "# 3.Logical Operators  and or not\n",
    "user=\"mahipal\"\n",
    "pwd=\"mahipal\"\n",
    "user_id=input('enter userid ')\n",
    "pass_word=input('enter pwd ')\n",
    "if((user==user_id) and (pwd==pass_word)):\n",
    "    print('user and pwd are same')\n",
    "else:\n",
    "    print(\"user and pwd are not same\")\n",
    "\n",
    "'''if(not(user==user_id)):\n",
    "    print('username is wrong')\n",
    "else:\n",
    "    print('username is correct')'''\n"
   ]
  },
  {
   "cell_type": "code",
   "execution_count": null,
   "id": "57f7c40d",
   "metadata": {},
   "outputs": [],
   "source": [
    "#4.increment decrement operators\n",
    "a=10\n",
    "a +=20\n",
    "print(a)"
   ]
  },
  {
   "cell_type": "markdown",
   "id": "f47f0bca",
   "metadata": {},
   "source": [
    "# Strings"
   ]
  },
  {
   "cell_type": "code",
   "execution_count": null,
   "id": "dbb4fab4",
   "metadata": {},
   "outputs": [],
   "source": [
    "firstName='mahipal'\n",
    "lastName='reddy'\n",
    "print(firstName+lastName)\n",
    "print(len(firstName))\n",
    "print(max(firstName))\n",
    "print(min(firstName))\n",
    "print(firstName*10)"
   ]
  },
  {
   "cell_type": "code",
   "execution_count": null,
   "id": "8cc33a11",
   "metadata": {},
   "outputs": [],
   "source": [
    "num1=10\n",
    "num2=20\n",
    "print(num1+num2)\n",
    "\n",
    "num3,num4='10','20'\n",
    "print(num3+num4)\n"
   ]
  },
  {
   "cell_type": "code",
   "execution_count": null,
   "id": "20390dec",
   "metadata": {},
   "outputs": [],
   "source": [
    "print(dir(str))"
   ]
  },
  {
   "cell_type": "code",
   "execution_count": null,
   "id": "851059d6",
   "metadata": {},
   "outputs": [],
   "source": []
  },
  {
   "cell_type": "code",
   "execution_count": null,
   "id": "f239ccda",
   "metadata": {},
   "outputs": [],
   "source": [
    "name='mahipal reddy burri'\n",
    "print(name.capitalize())#Mahipal reddy burri    first letter of word makes capital\n",
    "print(name.upper())#MAHIPAL REDDY BURRI    entire string in capitals\n",
    "print(name.title())#Mahipal Reddy Burri\n",
    "\n",
    "name2='MOUNIKA Burri'\n",
    "print(name2.casefold())#mounika burri  entire string in lower\n",
    "print(name2.lower())#mounika burri     entire string in lower\n",
    "\n",
    "name3=\"shashank AkaVARAM\"\n",
    "print(name3.swapcase())#SHASHANK aKAvaram\n",
    "\n",
    "name4=\"Bala krishna\"\n",
    "print(name4.zfill(40))#0000000000000000000000000000Bala krishna\n",
    "print(name4.center(40))#              Bala krishna              \n",
    "print(name4.center(40,'*'))#**************Bala krishna**************\n",
    "\n",
    "name5='python is a programming launguage'\n",
    "print(name5.count('a'))#4\n",
    "print(name5.replace('python','java'))#java is a programming launguage\n",
    "print(name5.startswith('java'))#True\n",
    "print(name5.endswith('guage'))#True\n",
    "print(name5.split())#['python','is','a','programming','launguage']\n",
    "print(name5.split('a'))#['python is ', ' progr', 'mming l', 'ungu', 'ge']\n",
    "print(name5.partition('py'))#('', 'py', 'thon is a programming launguage')\n",
    "\n",
    "name6='python3'\n",
    "print(name6.isalpha())#False\n",
    "print(name6.isalnum())#True\n",
    "print(name6.isascii())#True\n",
    "\n",
    "name7='       '\n",
    "print(name7.isspace())#True\n",
    "\n"
   ]
  },
  {
   "cell_type": "code",
   "execution_count": null,
   "id": "ce970652",
   "metadata": {},
   "outputs": [],
   "source": [
    "name='data science'\n",
    "print(name[5])#s\n",
    "print(name[-1])#e\n",
    "print(name[-3])#n\n",
    "print('length= ',len(name))#12\n",
    "print(name[0:4])#data\n",
    "print(name[-11:-5])#ata sc\n",
    "print(name[0:8:2])#dt c\n",
    "print(name[:6])#data s\n",
    "print(name[2:])#ta science\n",
    "print(name[0:12:3])#dacn\n",
    "print(name[:-1])#data scienc\n",
    "print(name[::-1])#ecneics atad   reverse string"
   ]
  },
  {
   "cell_type": "code",
   "execution_count": null,
   "id": "d0df6309",
   "metadata": {},
   "outputs": [],
   "source": [
    "#print(help(str))"
   ]
  },
  {
   "cell_type": "code",
   "execution_count": null,
   "id": "c15ff85e",
   "metadata": {},
   "outputs": [],
   "source": [
    "#print(help(str.count))"
   ]
  },
  {
   "cell_type": "markdown",
   "id": "02196cfd",
   "metadata": {},
   "source": [
    "# Lists"
   ]
  },
  {
   "cell_type": "code",
   "execution_count": null,
   "id": "91ced3ef",
   "metadata": {
    "scrolled": true
   },
   "outputs": [],
   "source": [
    "fruits=['mango','banana','pineapple']#homogeneous\n",
    "print(fruits) #['mango', 'banana', 'pineapple']\n",
    "\n",
    "for x in fruits:\n",
    "      print(x)  #mango\n",
    "                #banana\n",
    "                #pineapple\n",
    "\n",
    "for i in fruits:\n",
    "    if i=='banana':\n",
    "        print(i.upper())  #BANANA\n",
    "        \n",
    "scores=[40,35,60,50,70]\n",
    "new_scores=[]\n",
    "for i in scores:\n",
    "    if(i>=40):\n",
    "        new_scores.append(i+5)  #45 55 65 75\n",
    "print(\"scores \",scores)        #[40, 35, 60, 50, 70]\n",
    "print(\"new_scores \",new_scores) # [45, 65, 55, 75]\n",
    "\n",
    "list1=[20,20.5,'mahipal',True] #heterogeneous\n",
    "print(list1)\n",
    "\n",
    "print(len(list1))\n",
    "\n",
    "#1.functions\n",
    "marks=[60,70,35,45,90,80,93]\n",
    "print(marks)\n",
    "print('length=',len(marks))\n",
    "print('min=',min(marks))\n",
    "print('max=',max(marks))\n",
    "print('sum=',sum(marks))\n",
    "print('avg=',sum(marks)/len(marks))\n",
    "\n",
    "#2.indexing and slicing\n",
    "names=['mahipal','mounika','chutki','cherry','berry']\n",
    "print(names[0])#mahipal\n",
    "print(names[-1])#berry\n",
    "print(names[1:3])#['mounika','chutki']\n",
    "print(names[:2])#['mahipal', 'mounika']\n",
    "print(names[:-1])#['mahipal','mounika','chutki','cherry']\n",
    "print(names[0:4:2])#['mahipal','chutki']\n",
    "\n",
    "#3.methods\n",
    "#print(dir(list))\n",
    "cars=['bmw','tatamotors']\n",
    "cars.append('hyundai') #only one argument\n",
    "cars.insert(0,'volkswagen') #insert element ata sprecific index\n",
    "cars.extend(['ford','tesla']) #only one argument\n",
    "print(\"cars=\",cars)#['volkswagen', 'bmw', 'tatamotors', 'hyundai', 'ford', 'tesla']\n",
    "\n",
    "cars.reverse()\n",
    "print(\"in reverse \",cars)#['tesla', 'ford', 'hyundai', 'tatamotors', 'bmw', 'volkswagen']\n",
    "\n",
    "cars.sort()\n",
    "print(\"in sorted order \",cars)# ['bmw', 'ford', 'hyundai', 'tatamotors', 'tesla', 'volkswagen']\n",
    "\n",
    "cars_new=cars.copy()\n",
    "print(\"copy \",cars_new)# ['bmw', 'ford', 'hyundai', 'tatamotors', 'tesla', 'volkswagen']\n",
    "\n",
    "cars_new.pop()\n",
    "print(cars_new)# ['bmw', 'ford', 'hyundai', 'tatamotors', 'tesla']   removes last element\n",
    "\n",
    "cars_new.remove('hyundai')\n",
    "print(\"remove particular element= \",cars_new)# ['bmw', 'ford', 'tatamotors', 'tesla']\n",
    "\n",
    "cars_new.clear()\n",
    "print(cars_new)\n",
    "\n",
    "#4.list is ordered,allows duplicates\n",
    "students=['mahipal','ashok','subash','kiran','raju','kiran']\n",
    "print(students)\n"
   ]
  },
  {
   "cell_type": "code",
   "execution_count": null,
   "id": "ea3bf827",
   "metadata": {},
   "outputs": [],
   "source": [
    "#for Loops\n",
    "name=\"mahipal\"\n",
    "for i in name:\n",
    "    print(i)\n",
    "\n",
    "for j in name:\n",
    "    if(j=='p'):\n",
    "        print(j.center(50,'*'))\n",
    "\n",
    "for k in name:\n",
    "    print(k.upper())\n",
    "    \n",
    "#even or odd\n",
    "numbers=[2,6,4,3,5,8,12,76,345,542]\n",
    "even_num=[]\n",
    "odd_num=[]\n",
    "for i in numbers:\n",
    "    if(i%2==0):\n",
    "        even_num.append(i)\n",
    "    else:\n",
    "        odd_num.append(i)\n",
    "    \n",
    "print(\"even numbers list \",even_num)\n",
    "print(\"odd numbers list\",odd_num)\n"
   ]
  },
  {
   "cell_type": "markdown",
   "id": "d5d10b2b",
   "metadata": {},
   "source": [
    "# Conditions"
   ]
  },
  {
   "cell_type": "code",
   "execution_count": null,
   "id": "2d202dfa",
   "metadata": {},
   "outputs": [],
   "source": [
    "age=int(input('enter age'))\n",
    "if(age<18):\n",
    "    print('you are child')\n",
    "    \n",
    "elif ((age >= 18) and (age < 30)):\n",
    "    print('you are young')\n",
    "\n",
    "elif ((age >= 30) and (age < 40)):\n",
    "    print('you are adult')\n",
    "\n",
    "elif ((age >= 40) and (age < 60)):\n",
    "    print('you are moderatley old')\n",
    "\n",
    "else:\n",
    "    print('you are old')"
   ]
  },
  {
   "cell_type": "code",
   "execution_count": null,
   "id": "0be5dac6",
   "metadata": {},
   "outputs": [],
   "source": [
    "key=int(input('enter key 1 to 5 : '))\n",
    "if(key ==1):\n",
    "    print('balance info')\n",
    "elif(key==2):\n",
    "    print('credit info')\n",
    "elif(key==3):\n",
    "    print('credit score info')\n",
    "elif(key==4):\n",
    "    print('last withdrawl info')\n",
    "elif(key==5):\n",
    "    print('last 3months withdrwal info')\n",
    "else:\n",
    "    print('please enter correctly')"
   ]
  },
  {
   "cell_type": "code",
   "execution_count": null,
   "id": "03e1bd83",
   "metadata": {},
   "outputs": [],
   "source": [
    "age=int(input('enter your age'))\n",
    "if(age>=18):\n",
    "    print('age constraint met..pls continue')\n",
    "    salary=float(input('enter your salary'))\n",
    "    if(salary>30000):\n",
    "        print('salary constraints met..pls continue')\n",
    "        cibil_score=int(input('enter cibil score'))\n",
    "        if(cibil_score>=250):\n",
    "            print('cibil score met..congrats')\n",
    "            print('you are eligible for loan')\n",
    "        else:\n",
    "            print('cibil score is less,not eligible for loan')\n",
    "    else:\n",
    "        print('sorry,your sal is less than 30k')\n",
    "else:\n",
    "    print('sorry your are not applicable for loan')"
   ]
  },
  {
   "cell_type": "markdown",
   "id": "0299f3ac",
   "metadata": {},
   "source": [
    "# loops"
   ]
  },
  {
   "cell_type": "code",
   "execution_count": null,
   "id": "46a075c9",
   "metadata": {},
   "outputs": [],
   "source": [
    "fruits=['apple','banana','mango','sapota','orange']\n",
    "name=input('enter your favourite fruit')\n",
    "for x in fruits:\n",
    "    if(x==name):\n",
    "        print(\"favourite fruit\",name,\" is available\")\n",
    "        name2=name\n",
    "        break\n",
    "if(name!=name2):\n",
    "    print(name,'fruit not avaliable')"
   ]
  },
  {
   "cell_type": "code",
   "execution_count": null,
   "id": "de20c488",
   "metadata": {},
   "outputs": [],
   "source": [
    "while(False):\n",
    "    print('python is good') # nothing executes\n"
   ]
  },
  {
   "cell_type": "code",
   "execution_count": null,
   "id": "f882678f",
   "metadata": {},
   "outputs": [],
   "source": [
    "#while(True): \n",
    "#    print('in while loop') # COntinusouly Executes"
   ]
  },
  {
   "cell_type": "code",
   "execution_count": null,
   "id": "8c06d47f",
   "metadata": {},
   "outputs": [],
   "source": [
    "a=0\n",
    "while(a<=10):\n",
    "    print(a)\n",
    "    a+=1"
   ]
  },
  {
   "cell_type": "code",
   "execution_count": null,
   "id": "c79daae2",
   "metadata": {},
   "outputs": [],
   "source": [
    "a=20\n",
    "while(a<=30):\n",
    "    print(a)\n",
    "    a+=2"
   ]
  },
  {
   "cell_type": "code",
   "execution_count": null,
   "id": "ae8dd99b",
   "metadata": {},
   "outputs": [],
   "source": [
    "pin_num=1234\n",
    "attempts=3\n",
    "while(attempts>0):\n",
    "    entered_pin=int(input('pls enter pin number'))\n",
    "    if(entered_pin==pin_num):\n",
    "        print('sucessfully logedin')\n",
    "        break\n",
    "    else:\n",
    "        attempts-=1\n",
    "        if(attempts!=0):\n",
    "             print('you have ',attempts,' more attempts.Pls retry')\n",
    "        else:\n",
    "            print('Sorry,Thank you for visiting')"
   ]
  },
  {
   "cell_type": "code",
   "execution_count": null,
   "id": "91ae8c17",
   "metadata": {},
   "outputs": [],
   "source": [
    "a=1\n",
    "while(a<50):\n",
    "    print(a)\n",
    "    a+=2"
   ]
  },
  {
   "cell_type": "code",
   "execution_count": null,
   "id": "b5fa0e78",
   "metadata": {},
   "outputs": [],
   "source": [
    "#Nested Loops\n",
    "colors=['red','green','blue']\n",
    "lang=['java','python','c']\n",
    "for i in colors:\n",
    "    for j in lang:\n",
    "        print(i,j)"
   ]
  },
  {
   "cell_type": "code",
   "execution_count": null,
   "id": "4337a127",
   "metadata": {},
   "outputs": [],
   "source": [
    "num1=list(range(1,20))\n",
    "num2=list(range(1,11))\n",
    "print('num1',num1)\n",
    "print('num2',num2)\n",
    "for i in num1:\n",
    "    for j in num2:\n",
    "        print(i,'*',j,'=',i*j)\n",
    "    print('**********')"
   ]
  },
  {
   "cell_type": "markdown",
   "id": "f93fcde9",
   "metadata": {},
   "source": [
    "# set \n",
    "set is unordered,so indexing and slicing can't possible\n",
    "set can be create with {}"
   ]
  },
  {
   "cell_type": "code",
   "execution_count": null,
   "id": "a6d065d8",
   "metadata": {},
   "outputs": [],
   "source": [
    "emp={101,2000.5,'mahipal',True,'raj','kiran','raj','raj'}\n",
    "print('emp=',emp) #{True, 101, 'mahipal', 2000.5, 'kiran', 'raj'}\n",
    "\n",
    "#print(dir(set))\n",
    "#set methods\n",
    "\n",
    "emp.add('shashank') #takes exactly one argument\n",
    "print('after add emp=',emp) #{True, 101, 'mahipal', 'shashank', 2000.5, 'kiran', 'raj'}\n",
    "\n",
    "emp.update({'mahesh','nandu','oxo','mohan','kundra'}) # add multiple elements\n",
    "print('after update emp=',emp) #{True, 'mahesh', 101, 'mahipal', 'shashank', 'oxo', 2000.5, 'mohan', 'kiran', 'raj', 'kundra', 'nandu'}\n",
    "\n",
    "emp2=emp.copy() #makes copy\n",
    "print('after copy emp2=',emp2) # {2000.5, True, 'kiran', 101, 'raj', 'mahipal', 'shashank'}\n",
    "\n",
    "emp2.clear() #clear all elemnts in set\n",
    "print('After clear emp2=',emp2) #set()\n",
    "\n",
    "emp.discard('kiran') #delete one element\n",
    "print('after discard emp=',emp)\n",
    "\n",
    "emp.pop() #deletes first element\n",
    "print('after pop emp=',emp)\n",
    "\n",
    "emp.remove('shashank') #takes one argument\n",
    "print('after remove',emp)\n",
    "\n",
    "emp3={'mahipal','raj','arun','bala'}\n",
    "print('emp3=',emp3)\n",
    "print('emp diiference to emp3=',emp.difference(emp3))\n",
    "\n",
    "emp4=emp.intersection(emp3)#takes common elements\n",
    "print('after interscetion emp=',emp4)\n",
    "\n",
    "emp5=emp.union(emp4)#combines both\n",
    "print('after union emp=',emp5)\n",
    "\n",
    "name=input('enter employee ')\n",
    "for i in emp: \n",
    "    if(i==name):\n",
    "        print('emp ',name.capitalize() ,'found')\n",
    "        break\n",
    "else:\n",
    "        print('not found')\n",
    "\n"
   ]
  },
  {
   "cell_type": "code",
   "execution_count": null,
   "id": "80ed5a84",
   "metadata": {},
   "outputs": [],
   "source": [
    "#Set Functions        \n",
    "emp_id={101,108,104,130}\n",
    "print(len(emp_id))\n",
    "print('max',max(emp_id))\n",
    "print('min',min(emp_id))\n",
    "print('sum',sum(emp_id))\n",
    "print('average',sum(emp_id)/len(emp_id))"
   ]
  },
  {
   "cell_type": "code",
   "execution_count": null,
   "id": "22fd8477",
   "metadata": {},
   "outputs": [],
   "source": [
    "user_id={'mahipal123','raj342'}\n",
    "user=input('enter user id=')\n",
    "user2={user}\n",
    "if(user_id.intersection(user2)):\n",
    "    print(user, 'already taken,Please choose another one')\n",
    "else:\n",
    "    print('Sucessfully created user id ',user)"
   ]
  },
  {
   "cell_type": "code",
   "execution_count": null,
   "id": "63caaf52",
   "metadata": {},
   "outputs": [],
   "source": [
    "#tuples\n",
    "tuple1=('mahipal','raj','mahesh','hari',200.56,123,'True','mahipal','suman','mahipal') #duplicates allowed,ordered,\n",
    "print(\"tuple1\",tuple1)\n",
    "\n",
    "for i in tuple1:\n",
    "    print(i)\n",
    "\n",
    "print(\"count =\",tuple1.count('mahipal')) #count element \n",
    "\n",
    "#tuple functions\n",
    "tuple2=(10,40,20,34,54,34,65,56,77,85,40)\n",
    "print(tuple2)\n",
    "print('length ',len(tuple2))\n",
    "print('min ',min(tuple2))\n",
    "print('max ',max(tuple2))\n",
    "print('sum is ',sum(tuple2))\n",
    "print('average ',sum(tuple2)/len(tuple2))\n",
    "\n",
    "tuple3=10,20,40,11,'mahipal'\n",
    "print('tuple3 =',tuple3)#(10, 20, 40, 11, 'mahipal')\n",
    "\n",
    "#tuple indexing and slicing\n",
    "tuple4=(30,20,40,11,34,25,98,59,67,89,91)\n",
    "print(tuple4[2])#40\n",
    "print(tuple4[2:6])#40,11,34,25\n",
    "print(tuple4[:6])#30,20,40,11,34,25\n",
    "print(tuple4[1:6:2])#20,11,25\n",
    "print(tuple4[-5])#98\n",
    "print(tuple4[-7:-3])#34,25,98,59\n",
    "print(tuple4[9:3])# nothing prints  ()\n",
    "print(tuple4[-3:-7])# nothing prints  ()\n",
    "\n",
    "#tuple methods\n",
    "tuple5=(40,10,55,23,43,20,90,21,23,43)\n",
    "print(\"count of 43=\",tuple5.count(43))\n",
    "print(\"count of 21=\",tuple5.count(21))\n",
    "\n",
    "print(\"index of 43=\",tuple5.index(43))\n"
   ]
  },
  {
   "cell_type": "code",
   "execution_count": null,
   "id": "f72a5747",
   "metadata": {},
   "outputs": [],
   "source": [
    "list1=[['mahipal','mounika','chutki','hymavathi'],('raj','kiran','somu')]\n",
    "list1.append('rajender')\n",
    "print(\"particular element \",list1[0][1].capitalize())#Mounika\n",
    "\n",
    "for j in list1[0]:\n",
    "    print(j)  #mahipal mounika chutki hymavathi\n",
    "print('*************')\n",
    "\n",
    "for i in list1[1]:\n",
    "    print(i)  #raj kiran somu"
   ]
  },
  {
   "cell_type": "code",
   "execution_count": null,
   "id": "96c76b31",
   "metadata": {},
   "outputs": [],
   "source": [
    "help(dict)"
   ]
  },
  {
   "cell_type": "code",
   "execution_count": null,
   "id": "5f2fa643",
   "metadata": {},
   "outputs": [],
   "source": [
    "#Dict\n",
    "dict1={100:'IND',101:'CAN',102:'AUS'}\n",
    "print(dict1) #{100: 'IND', 101: 'CAN', 102: 'AUS'}\n",
    "\n",
    "for i in dict1:\n",
    "    print(i)  #100 101 102\n",
    "\n",
    "dict2={'A':'APPLE','B':'BALL','C':'CAT','B':'BAT','D':'BAT'}\n",
    "print(dict2) #{'A': 'APPLE', 'B': 'BAT', 'C': 'CAT', 'D': 'BAT'}   key can't be duplicate,values can be duplicate\n",
    "\n",
    "print(dict2.keys()) #dict_keys(['A', 'B', 'C', 'D'])\n",
    "print('value of key A is ',dict2.get('A'))# 'APPLE'\n",
    "#dict2.items()\n",
    "\n",
    "dict3={}\n",
    "dict3=dict2.copy()\n",
    "print('copy ',dict3)\n",
    "\n",
    "dict4={'E':'Egg','F':'Foriegn','G':['raj','mahipal','reddy','somu']}\n",
    "print('dict4',dict4)   \n",
    "print(dict4.get('G'))\n",
    "\n",
    "dict5={'H':'rose','j':('anar','baaby','cinar','dinar'),'k':['amruth','keshva','somesh','umesh']}\n",
    "print(dict5)\n",
    "print(dict5.get('j'))"
   ]
  },
  {
   "cell_type": "markdown",
   "id": "9e894810",
   "metadata": {},
   "source": [
    "# Functions"
   ]
  },
  {
   "cell_type": "code",
   "execution_count": null,
   "id": "e9acc8dd",
   "metadata": {},
   "outputs": [],
   "source": [
    "x=150\n",
    "y=200\n",
    "z=x-y\n",
    "print(abs(z))\n",
    "c=-123\n",
    "print('absolute value of ',c, 'is ',abs(c))\n",
    "a=[1,2,4,2,6,4]\n",
    "print('minimum ',min(a))\n",
    "print('maximum ',max(a))\n",
    "print('length ',len(a))\n",
    "\n",
    "list1=['mahipal',20,30985.54,True]\n",
    "print(all(list1))  #True\n",
    "\n",
    "list2=[1,2,3,4]\n",
    "print(all(list2))#True\n",
    "\n",
    "list3=[0,1,2,3,4]\n",
    "print(all(list3))# False\n",
    "\n",
    "list5=[]\n",
    "print(all(list5))#True\n",
    "\n",
    "print(dir(list1))\n",
    "print('**********************************')\n",
    "print(dir(str))\n",
    "\n",
    "print('divmode of 18,3 is ',divmod(18,3))  #(6,0)  6 is quotient 0 is reminder\n",
    "\n",
    "\n",
    "list6=['Mahipal','Mounika','Driti','Hymavathi']\n",
    "for i,j in (enumerate(list6)):\n",
    "    print('position is ',i,' value is ',j)\n",
    "\n",
    "print('asci value of @ is ',ord('@'))  \n",
    "print('ascii of 64 is ',chr(64))\n",
    "\n",
    "list7=['mahipal','reddy']\n",
    "print(isinstance(list7,list))#True\n",
    "print(isinstance(list7,set))#False\n",
    "print(isinstance(list7,tuple))#False\n",
    "\n",
    "#range(0,n-1)\n",
    "a=list(range(0,100))#prints range of values from 0 to 99(n-1)\n",
    "print(a)\n",
    "\n",
    "for i in range(0,20):\n",
    "    print(i)\n",
    "\n",
    "#help(list)\n",
    "\n",
    "def find_even_number(b):\n",
    "    if(b%2==0):\n",
    "        return (b,' is even number')\n",
    "find_even_number(20)    \n",
    "\n",
    "def find_positive_number(c):\n",
    "    if c>0:\n",
    "        print(c/2)\n",
    "#filter        \n",
    "list8=[-10,9,3,2,5,7,-4,-6,7,-2]        \n",
    "positiveList=list(filter(find_positive_number,list8))        \n",
    "print(positiveList)\n",
    "\n",
    "#map\n",
    "def find_square(a):\n",
    "    print(a*a)\n",
    "list1=[2,3,4,5]\n",
    "squredList=(list(map(find_square,list1)))\n",
    "print(squredList)\n",
    "\n",
    "#reduce\n",
    "def add_numbers(x,y):\n",
    "    return (x+y)\n",
    "\n",
    "from functools import reduce\n",
    "list9=[2,3,4,5,6]\n",
    "prod=reduce(add_numbers,list9)\n",
    "print('reduce ',prod)\n",
    "\n",
    "import functools\n",
    "print(dir(functools))"
   ]
  },
  {
   "cell_type": "code",
   "execution_count": null,
   "id": "feec07af",
   "metadata": {},
   "outputs": [],
   "source": [
    "\n",
    "def seperate_scores(a):\n",
    "    passed=[]\n",
    "    failed=[]\n",
    "    for i in a:\n",
    "        if(i>=35):\n",
    "            passed.append(i)\n",
    "            \n",
    "        else:\n",
    "            failed.append(i)\n",
    "    print('qualified ',passed)   \n",
    "    print('failed ',failed)\n",
    "    return"
   ]
  },
  {
   "cell_type": "code",
   "execution_count": null,
   "id": "06e7ab75",
   "metadata": {},
   "outputs": [],
   "source": [
    "science=[90,34,36,53,21,11,77,85,48]\n",
    "seperate_scores(science)"
   ]
  },
  {
   "cell_type": "code",
   "execution_count": null,
   "id": "ccb2e1f0",
   "metadata": {},
   "outputs": [],
   "source": [
    "#datatype conversions\n",
    "num1=10\n",
    "print(float(num1))#10.0\n",
    "\n",
    "num2=15.256\n",
    "print(int(num2))#15\n",
    "\n",
    "list1=[10,20,30,23,54,30]\n",
    "set1=set(list1) #convert list to set\n",
    "print(set1) #{10,20,54,23,30}\n",
    "\n",
    "a=10\n",
    "b=3\n",
    "print(a/b)#3.3333333333333335\n",
    "print(round(a/b,2))#3.33\n"
   ]
  },
  {
   "cell_type": "markdown",
   "id": "a5a9fbfd",
   "metadata": {},
   "source": [
    "# 1.Required Positional Arguments\n"
   ]
  },
  {
   "cell_type": "code",
   "execution_count": null,
   "id": "02bebf10",
   "metadata": {},
   "outputs": [],
   "source": [
    "def myfun(a,b): #created function ,arguments not embded with code\n",
    "    print('I am Learning Python')\n",
    "    print('I am Learning DataScience')    \n",
    "    return\n",
    "myfun(10,'mahi') #calling function "
   ]
  },
  {
   "cell_type": "code",
   "execution_count": null,
   "id": "d05bc46a",
   "metadata": {},
   "outputs": [],
   "source": [
    "#Embeding arguments with code\n",
    "def add(a,b):\n",
    "    return a+b\n",
    "    \n",
    "def sub(a,b):\n",
    "    return a-b\n",
    "\n",
    "def mul(a,b):\n",
    "    return a*b\n",
    "\n",
    "def capital(a):\n",
    "    return a.capitalize()\n",
    "\n",
    "sub(3,2)\n",
    "mul(3,2)\n",
    "capital('mahipal')\n",
    "        "
   ]
  },
  {
   "cell_type": "code",
   "execution_count": null,
   "id": "4df27509",
   "metadata": {},
   "outputs": [],
   "source": [
    "def myfun1(str,list,dict):\n",
    "    print('str is ',str)\n",
    "    print('list is ',list)\n",
    "    print('dict is ',dict)\n",
    "    return\n",
    "\n",
    "# myfun1('mahi',2)  # missing 1 required positional argument 'dict'\n",
    "# myfun1('mahi')  # missing 2 required positional arguments: 'list' and 'dict'\n",
    "myfun1('mahi',20,22.4) # str is mahi \n",
    "                   # list is 20\n",
    "                   # dict is 22.4\n",
    "\n",
    "def myfun2(a):\n",
    "    print('i am mahi')\n",
    "    return\n",
    "myfun2(20)\n",
    "\n",
    "def userdetails(a,b):\n",
    "    print('user name is',a)\n",
    "    print('user age is',b)\n",
    "    return\n",
    "\n",
    "userdetails('mahi',23)\n",
    "\n",
    "def substraction(a,b):\n",
    "    result=a-b\n",
    "    return result\n",
    "substraction(5,10)\n",
    "\n"
   ]
  },
  {
   "cell_type": "markdown",
   "id": "5d1e3f4d",
   "metadata": {},
   "source": [
    "# 2.Keyword argument"
   ]
  },
  {
   "cell_type": "code",
   "execution_count": null,
   "id": "0936c76f",
   "metadata": {},
   "outputs": [],
   "source": [
    "def substract(a,b):\n",
    "    print(a-b)\n",
    "    return\n",
    "substract(b=5,a=10)\n",
    "\n",
    "def test(a,b,c):\n",
    "    print('a is ',a)\n",
    "    print('b is ',b)\n",
    "    print('c is ',c)\n",
    "    return\n",
    "test(b=10,a=4,c=2)\n",
    "\n",
    "def address(name,age,phone,sal):\n",
    "    print('name is',name)\n",
    "    print('age is',age)\n",
    "    print('phone is',phone)\n",
    "    print('sal is',sal)\n",
    "    return\n",
    "address(age=25,sal=2000.50,phone=9876,name='mahipal')"
   ]
  },
  {
   "cell_type": "markdown",
   "id": "d6375567",
   "metadata": {},
   "source": [
    "# 3.Default Arguments"
   ]
  },
  {
   "cell_type": "code",
   "execution_count": null,
   "id": "fbf2f7ab",
   "metadata": {},
   "outputs": [],
   "source": [
    "def fun3(a=10,b=5):\n",
    "    print(a-b)\n",
    "    return\n",
    "fun3(20,3) # 17\n",
    "fun3(20) #15\n",
    "fun3() #5\n",
    "\n",
    "def fun4(name='Hi All',message='there is no class'):\n",
    "    print(name,message)\n",
    "fun4(name='mouni',message='class starts at 10am')  #mouni class starts at 10am \n",
    "fun4() #Hi All there is no class"
   ]
  },
  {
   "cell_type": "markdown",
   "id": "fd9a27fb",
   "metadata": {},
   "source": [
    "# 4.Variable length Arguments or Arbitaury Length Arguments"
   ]
  },
  {
   "cell_type": "code",
   "execution_count": null,
   "id": "e65b644d",
   "metadata": {},
   "outputs": [],
   "source": [
    "def fun6(*var,message='Happy New Year'):\n",
    "    for i in var:\n",
    "        print(i,message)\n",
    "fun6('mahi','mounika','chutki') # mahi Happy New Year\n",
    "                                # mounika Happy New Year\n",
    "                                # chutki Happy New Year      \n",
    "fun6('mahi','mounika','chutki',message='HI')# mahi HI\n",
    "                                            # mounika HI\n",
    "                                            # chutki HI    \n",
    "def fun7(*var,message='30% discount for Classic customers'):\n",
    "    for i in var:\n",
    "        print(i,message)\n",
    "fun7('raj','mahi','suraj',message='35% discount')  \n",
    "\n",
    "\n",
    "def fun8(*var):\n",
    "    for i in var:\n",
    "        print(i)\n",
    "fun8('mahipal','mounika')        \n",
    "   \n",
    "def fun9():\n",
    "    a=10\n",
    "    b=20\n",
    "    print(a-b)               #-10\n",
    "    return 'work done'       #work done\n",
    "fun9()    "
   ]
  },
  {
   "cell_type": "code",
   "execution_count": null,
   "id": "ba74e16d",
   "metadata": {},
   "outputs": [],
   "source": [
    "def seperate(marks):\n",
    "    pass_stu=[]\n",
    "    fail_stu=[]\n",
    "    for i in marks:\n",
    "        if(i<=34):\n",
    "            fail_stu.append(i)\n",
    "        else:\n",
    "            pass_stu.append(i)\n",
    "    print('pass students are',pass_stu,'fail students are',fail_stu)"
   ]
  },
  {
   "cell_type": "code",
   "execution_count": null,
   "id": "f8cd09bb",
   "metadata": {},
   "outputs": [],
   "source": [
    "marks=[10,30,24,65,87,54,36,90,11]\n",
    "seperate(marks)"
   ]
  },
  {
   "cell_type": "markdown",
   "id": "aca96386",
   "metadata": {},
   "source": [
    "# Modules"
   ]
  },
  {
   "cell_type": "code",
   "execution_count": null,
   "id": "9ea030d9",
   "metadata": {},
   "outputs": [],
   "source": [
    "import math\n",
    "print(dir(math))\n",
    "print(help(math))"
   ]
  },
  {
   "cell_type": "code",
   "execution_count": null,
   "id": "ee0141e5",
   "metadata": {},
   "outputs": [],
   "source": [
    "import math\n",
    "print('factorial of 5 is',math.factorial(5))\n",
    "print('reminder of 10,3 is',math.remainder(10,3))\n",
    "print(math.floor(10.9863889))\n",
    "print('sqaureroot of 25 is',math.sqrt(25))\n",
    "print('cos of 45 is',math.cos(45))\n",
    "print('pi value',math.pi)\n",
    "\n",
    "import random as r\n",
    "list1=['mahi','aurav','subash','kumar']\n",
    "r.shuffle(list1)\n",
    "print('list1 is shuffeled',list1)"
   ]
  },
  {
   "cell_type": "code",
   "execution_count": null,
   "id": "31ce2b4a",
   "metadata": {},
   "outputs": [],
   "source": [
    "import random as r\n",
    "print(r.random())\n",
    "print(r.randint(10,20)) # random number in between 10 and 20 \n",
    "otp=r.randint(100000,999999)\n",
    "print('otp is ',otp)"
   ]
  },
  {
   "cell_type": "code",
   "execution_count": null,
   "id": "8cfd262e",
   "metadata": {},
   "outputs": [],
   "source": [
    "import random as r\n",
    "concern=input('please play game or no').lower()\n",
    "while(concern == 'yes'):\n",
    "    guess_no=int(input('please enter no between 1 and 10'))\n",
    "    random_num=r.randint(1,10)\n",
    "    if(guess_no == random_num):\n",
    "        print('you won')\n",
    "        concern=input('please play game yes or no').lower()\n",
    "    else:\n",
    "        print('you loose')\n",
    "        concern=input('please play game yes or no')\n",
    "print('Exited the Game Thank you ')        "
   ]
  },
  {
   "cell_type": "code",
   "execution_count": null,
   "id": "a38fd595",
   "metadata": {},
   "outputs": [],
   "source": [
    "!pip install pywhatkit"
   ]
  },
  {
   "cell_type": "code",
   "execution_count": null,
   "id": "454f652f",
   "metadata": {},
   "outputs": [],
   "source": [
    "import pywhatkit as pw\n",
    "print(dir(pw))\n",
    "pw.sendwhatmsg(\"+91-9663037784\",\"hi mahipal\",10,54)"
   ]
  },
  {
   "cell_type": "code",
   "execution_count": null,
   "id": "492f0e52",
   "metadata": {},
   "outputs": [],
   "source": [
    "pw.playonyt('bulletbandi')"
   ]
  },
  {
   "cell_type": "code",
   "execution_count": null,
   "id": "4b5fc6a1",
   "metadata": {},
   "outputs": [],
   "source": [
    "pw.search('math module in python')"
   ]
  },
  {
   "cell_type": "code",
   "execution_count": null,
   "id": "3685bda7",
   "metadata": {},
   "outputs": [],
   "source": [
    "pw.text_to_handwriting('I am learning python',rgb=[0, 125, 125])"
   ]
  },
  {
   "cell_type": "code",
   "execution_count": null,
   "id": "b5dbfd7f",
   "metadata": {},
   "outputs": [],
   "source": [
    "import os\n",
    "os.chdir('C:\\\\Users\\\\pcs\\\\Desktop\\\\Python')"
   ]
  },
  {
   "cell_type": "code",
   "execution_count": null,
   "id": "550b2f23",
   "metadata": {},
   "outputs": [],
   "source": [
    "import practise  as k\n",
    "print(dir(K))"
   ]
  },
  {
   "cell_type": "code",
   "execution_count": null,
   "id": "ccaad2af",
   "metadata": {},
   "outputs": [],
   "source": [
    "scores=[10,44,34,23,65,25,98,78,76,56]\n",
    "k.myfun(scores)"
   ]
  },
  {
   "cell_type": "markdown",
   "id": "50eb448b",
   "metadata": {},
   "source": [
    "# Numpy Arrays\n",
    "#Can't Handle missing values\n",
    "#can't Label data\n",
    "#can have homogenous data types\n",
    "#provides high performance multidimensional array object\n",
    "#1D array called as Vector or Arry\n",
    "#2D array called as matrix\n"
   ]
  },
  {
   "cell_type": "code",
   "execution_count": null,
   "id": "fd1d5131",
   "metadata": {},
   "outputs": [],
   "source": [
    "!pip install numpy"
   ]
  },
  {
   "cell_type": "code",
   "execution_count": null,
   "id": "35e97f90",
   "metadata": {},
   "outputs": [],
   "source": [
    "import numpy as np\n",
    "print(dir(np))"
   ]
  },
  {
   "cell_type": "code",
   "execution_count": null,
   "id": "f5e0f8c9",
   "metadata": {},
   "outputs": [],
   "source": [
    "array1=np.array([10,20,30,40,20,60])\n",
    "print(array1)       #[10 20 30 40 20 60]\n",
    "print(type(array1))  \n",
    "print('max',array1.max())\n",
    "print('min',array1.min())\n",
    "print('mean',array1.mean())\n",
    "print('shape',array1.shape) #(6,)\n",
    "array2=np.arange(2,100)  #(start,end-1)\n",
    "print(array2) # [2 3 4        98 99]\n",
    "print(array2.shape) #(98,)\n",
    "\n",
    "array3=np.arange(2,100,3) #(start,end-1,step)\n",
    "print(array3) #[2 5 8 11  95 98]\n",
    "\n",
    "array4=np.array([10,32,42,12,101.2,True,'Mahipal'])\n",
    "print(array4) #['10' '32' '42' '12' '101.2' 'True' 'Mahipal']\n",
    "\n",
    "array5=np.array([10,32,42,12,101.2,True])\n",
    "print(array5) #[ 10.   32.   42.   12.  101.2   1. ]\n"
   ]
  },
  {
   "cell_type": "code",
   "execution_count": null,
   "id": "77c6bc3f",
   "metadata": {},
   "outputs": [],
   "source": [
    "array6=np.array([[10,20],[20,30],[40,42]]) #Two Dimmensional Array\n",
    "print(array6)\n",
    "print(array6.shape)#(3,2) 3 rows,2 columns\n",
    "\n",
    "array7=np.array([[10,20],[20,30]]) #Two Dimmensional Array\n",
    "print(array7)\n",
    "print(array7.shape)"
   ]
  },
  {
   "cell_type": "code",
   "execution_count": null,
   "id": "2708b6c3",
   "metadata": {},
   "outputs": [],
   "source": [
    "array8=np.array([[10,20,30,40],[80,90,50,60]]) #Multi Dimmensional Array\n",
    "print(array8)\n",
    "print(array8.shape) #2 rows and 4 columns"
   ]
  },
  {
   "cell_type": "code",
   "execution_count": null,
   "id": "b002c68b",
   "metadata": {},
   "outputs": [],
   "source": [
    "c=np.array([[20,30,40],[90,89,78]])\n",
    "print(c)\n",
    "print('shape is',c.shape)#(2,3)\n",
    "\n",
    "c.shape=(3,2)\n",
    "print(c)\n",
    "print('after conversion shape',c.shape)#(3,2)\n",
    "\n",
    "d=np.array([[1,2,3],[4,5,6]])\n",
    "print(d)\n",
    "print(d.shape) #(2,3)\n",
    "\n",
    "d1=d.reshape(3,2)\n",
    "print(d1)\n",
    "print(d1.shape) #(3,2)"
   ]
  },
  {
   "cell_type": "code",
   "execution_count": null,
   "id": "74af040d",
   "metadata": {},
   "outputs": [],
   "source": [
    "d2=np.arange(20)\n",
    "print(d2)\n",
    "print(d2.shape)\n",
    "print('\\n')\n",
    "d3=d2.reshape(2,10)\n",
    "print(d3)"
   ]
  },
  {
   "cell_type": "markdown",
   "id": "aa47d2f2",
   "metadata": {},
   "source": [
    "# Numpy arrays- Initializations\n"
   ]
  },
  {
   "cell_type": "code",
   "execution_count": null,
   "id": "6eca6c0a",
   "metadata": {},
   "outputs": [],
   "source": [
    "a1=np.zeros((2,2)) #it print by default zeros,to specify other datatypes we should specify\n",
    "print(a1)\n",
    "print('\\n')\n",
    "\n",
    "a2=np.zeros((2,3),str)\n",
    "print(a2)\n",
    "print('\\n')\n",
    "\n",
    "a3=np.zeros((2,3),int)\n",
    "print(a3)\n",
    "print('\\n')\n",
    "\n",
    "a4=np.zeros((2,3),float)\n",
    "print(a4)\n",
    "print('\\n')\n",
    "\n"
   ]
  },
  {
   "cell_type": "code",
   "execution_count": null,
   "id": "0c88c140",
   "metadata": {},
   "outputs": [],
   "source": [
    "a5=np.ones((10))\n",
    "print(a5)\n",
    "\n",
    "a6=np.ones((2,3),int)\n",
    "print(a6)\n",
    "\n",
    "a7=np.ones((2,3),str)\n",
    "print(a7)\n",
    "\n",
    "a8=np.ones((2,3),float)\n",
    "print(a8)\n"
   ]
  },
  {
   "cell_type": "code",
   "execution_count": null,
   "id": "33ea63ce",
   "metadata": {},
   "outputs": [],
   "source": [
    "#creating Constant array\n",
    "a9=np.full((3,2),10)\n",
    "print(a9)\n",
    "\n",
    "a10=np.full((3,2),23.45)\n",
    "print(a10)\n",
    "\n",
    "a11=np.full((3,4),'mahipal')\n",
    "print(a11)"
   ]
  },
  {
   "cell_type": "code",
   "execution_count": null,
   "id": "ff6a4fe6",
   "metadata": {},
   "outputs": [],
   "source": [
    "science_marks=[20,50,40,60,70]\n",
    "social_marks=(40,50,30,54,40)\n",
    "a12=np.asarray(science_marks) #convert list to array\n",
    "print(a12)\n",
    "print(a12.shape)\n",
    "\n",
    "a13=np.asarray(social_marks) # convert set to array\n",
    "print(a13)\n",
    "print(a13.shape)"
   ]
  },
  {
   "cell_type": "markdown",
   "id": "9b558f86",
   "metadata": {},
   "source": [
    "# Numpy arrays-Operations"
   ]
  },
  {
   "cell_type": "code",
   "execution_count": null,
   "id": "95700991",
   "metadata": {},
   "outputs": [],
   "source": [
    "a14=np.array([[10,20,30],[40,50,60]])\n",
    "print(a14)\n",
    "print('\\n after adding 5')\n",
    "print(a14+5)\n",
    "print('\\n after substracting 2')\n",
    "print(a14-2)\n",
    "print('\\n after multiplying 5')\n",
    "print(a14*2)\n",
    "\n",
    "a15=np.array([[11,12,13,14],[15,16,17,18]])\n",
    "a16=np.array([[1,2,3,4],[5,6,7,8]])\n",
    "print('\\n after Adding two arrays')\n",
    "print(a15+a16)\n",
    "print('\\n after substracting two arrays')\n",
    "print(a15-a16)\n",
    "print('\\n after multiply two arrays')\n",
    "print(a15*a16)\n",
    "print('\\n after divise two arrays')\n",
    "print(a15/a16)"
   ]
  },
  {
   "cell_type": "code",
   "execution_count": null,
   "id": "d1e47671",
   "metadata": {},
   "outputs": [],
   "source": [
    "a17=np.array([[1,2,3,4],[5,6,7,8]])\n",
    "print('max element in array',a17.max())\n",
    "print('min element in array',a17.min())\n",
    "print('mean element in array',a17.mean())\n",
    "print('\\n')\n",
    "\n",
    "print('max in row wise',a17.max(axis=1)) #axis=1 means row wise\n",
    "print('min in row wise',a17.min(axis=1))\n",
    "print('mean in row wise',a17.mean(axis=1))\n",
    "print('\\n')\n",
    "\n",
    "print('max in column wise',a17.max(axis=0)) #axis=0 means column wise\n",
    "print('min in column wise',a17.min(axis=0))\n",
    "print('mean in column wise',a17.mean(axis=0))\n",
    "print('\\n')\n",
    "\n",
    "print(a17[:,]) # [[1 2 3 4]\n",
    "               # [5 6 7 8]]\n",
    "print(a17[:,0]) # [1 5]\n",
    "print(a17[:,2]) #[3 7]\n",
    "print(a17[:,2].max()) #7\n",
    "print(a17[:,2].min()) # 3"
   ]
  },
  {
   "cell_type": "markdown",
   "id": "b68a8ebe",
   "metadata": {},
   "source": [
    "# Numpy arrays Sorting"
   ]
  },
  {
   "cell_type": "code",
   "execution_count": null,
   "id": "982b6532",
   "metadata": {},
   "outputs": [],
   "source": [
    "a18=np.array([[1,12,30,4],[51,64,27,8]])\n",
    "print(a18)\n",
    "print('\\n')\n",
    "print(np.sort(a18,axis=None)) # complete array it sorts\n",
    "print('\\n')\n",
    "print(np.sort(a18,axis=1)) # row wise sort\n",
    "print('\\n')\n",
    "print(np.sort(a18,axis=0)) # column wise sort"
   ]
  },
  {
   "cell_type": "code",
   "execution_count": null,
   "id": "1053df7b",
   "metadata": {},
   "outputs": [],
   "source": [
    "import random\n",
    "a=np.random.randint(5,10)\n",
    "print(a)\n",
    "print('\\n')\n",
    "b=np.random.rand(5,4)\n",
    "print(b)\n",
    "print('\\n')\n",
    "c=np.random.randint(low=10000, high=99999)\n",
    "print(c)\n",
    "print('\\n')\n",
    "d=np.random.random_sample((5,4))\n",
    "print(d)"
   ]
  },
  {
   "cell_type": "code",
   "execution_count": null,
   "id": "e06ad155",
   "metadata": {},
   "outputs": [],
   "source": [
    "a20=np.arange(10000,90000)\n",
    "print(a20)\n",
    "pwd=12345\n",
    "for i in a20:\n",
    "    if(i==pwd):\n",
    "        print('cracked',i)\n",
    "        break"
   ]
  },
  {
   "cell_type": "code",
   "execution_count": null,
   "id": "ecc27784",
   "metadata": {},
   "outputs": [],
   "source": [
    "#Numpy Arrays Indexing and Slicing"
   ]
  },
  {
   "cell_type": "code",
   "execution_count": null,
   "id": "b1f3335c",
   "metadata": {},
   "outputs": [],
   "source": [
    "b1=np.array([[10,20,30],[2,6,5],[19,45,23]])\n",
    "print(b1)\n",
    "print(b1.shape)\n",
    "print('\\n')\n",
    "print(b1[2]) #[19 45 23] By default Row Wise \n",
    "print(b1[:,2])#[30 5 23]  :means column wise\n",
    "print(b1[2,2])#23\n",
    "print(b1[:,1][0])#20\n",
    "print(b1[0:2]) #start,stop-1  Row Wise Slice\n",
    "print('\\n')\n",
    "print(b1[:,1:2]) # column"
   ]
  },
  {
   "cell_type": "markdown",
   "id": "43c77e45",
   "metadata": {},
   "source": [
    "# Stacking NumpyArrays"
   ]
  },
  {
   "cell_type": "code",
   "execution_count": null,
   "id": "57c2db5f",
   "metadata": {},
   "outputs": [],
   "source": [
    "e=np.array([10,20,30,40])\n",
    "f=np.array([50,60,70,89])\n",
    "g=np.array([-1,-2,-3,-4])\n",
    "h=np.stack((e,f,g))\n",
    "print(h)"
   ]
  },
  {
   "cell_type": "code",
   "execution_count": null,
   "id": "84312dc0",
   "metadata": {},
   "outputs": [],
   "source": [
    "#1D Vertical Stacking   COlumns are important , rows are not important\n",
    "i=np.array([1,2,3,4])\n",
    "j=np.array([5,6,7,8])\n",
    "result=np.vstack((i,j))\n",
    "print(result)\n",
    "print(result.shape)\n",
    "print('\\n')\n",
    "\n",
    "#2D Vertical Stacking\n",
    "k=np.array([[1,2,3,4],[5,6,7,8]])\n",
    "l=np.array([[11,12,13,14],[15,16,17,18]])\n",
    "m=np.vstack((k,l))\n",
    "print(m)\n",
    "print(m.shape)\n"
   ]
  },
  {
   "cell_type": "code",
   "execution_count": null,
   "id": "7beab6c1",
   "metadata": {},
   "outputs": [],
   "source": [
    "#Horizantal 1D Stacking\n",
    "h1=np.array([1,2,3,4])\n",
    "h2=np.array([5,6,7,8])\n",
    "h3=np.hstack((h1,h2))\n",
    "print(h3)\n",
    "print(h3.shape)\n",
    "\n",
    "#Horizantal 2D Stacking\n",
    "h4=np.array([[1,2,3,4],[5,6,7,8]])\n",
    "h5=np.array([[10,12,13,14],[15,16,17,18]])\n",
    "h6=np.hstack((h4,h5))\n",
    "print(h6)\n",
    "\n",
    "print('************')\n",
    "#Diagnoal 1D Stack\n",
    "h7=np.array([1,2,3,4])\n",
    "h8=np.array([5,6,7,8])\n",
    "h9=np.dstack((h7,h8))\n",
    "print(h9)\n",
    "\n",
    "print('------------')\n",
    "#Diagnoal 2D Stack\n",
    "h10=np.array([[1,2,3,4],[5,6,7,8]])\n",
    "h11=np.array([[11,12,13,14],[15,16,17,18]])\n",
    "h12=np.dstack((h10,h11))\n",
    "print(h12)"
   ]
  },
  {
   "cell_type": "code",
   "execution_count": null,
   "id": "ed5a9f6e",
   "metadata": {},
   "outputs": [],
   "source": [
    "#Concatinating\n",
    "a=np.arange(5,10)\n",
    "print(a)\n",
    "b=np.arange(1,5)\n",
    "print(b)\n",
    "c=np.concatenate((a,b))\n",
    "print(c)\n"
   ]
  },
  {
   "cell_type": "code",
   "execution_count": null,
   "id": "3bc7cac4",
   "metadata": {},
   "outputs": [],
   "source": [
    "a=np.array([[1,5],[6,7]]) #2x2 dimention\n",
    "print(a)\n",
    "b=np.array([[10,12]])     #1x2 dimention\n",
    "print(b)\n",
    "np.concatenate((a,b),axis=0) #one row and one coloum, concatinating through column wise"
   ]
  },
  {
   "cell_type": "markdown",
   "id": "94a694c1",
   "metadata": {},
   "source": [
    "# Pandas"
   ]
  },
  {
   "cell_type": "code",
   "execution_count": null,
   "id": "4fea2622",
   "metadata": {},
   "outputs": [],
   "source": [
    "!pip install pandas"
   ]
  },
  {
   "cell_type": "code",
   "execution_count": null,
   "id": "feba8391",
   "metadata": {},
   "outputs": [],
   "source": [
    "import pandas as pd\n",
    "print(dir(pd))\n",
    "print('pandas version',pd.__version__)"
   ]
  },
  {
   "cell_type": "code",
   "execution_count": null,
   "id": "8d6827c0",
   "metadata": {},
   "outputs": [],
   "source": [
    "print(dir(pd.DataFrame))"
   ]
  },
  {
   "cell_type": "code",
   "execution_count": null,
   "id": "bc140843",
   "metadata": {},
   "outputs": [],
   "source": [
    "dataframe=pd.Series([10,20,30.8,40.5,20])\n",
    "print(dataframe)"
   ]
  },
  {
   "cell_type": "code",
   "execution_count": null,
   "id": "43f991d0",
   "metadata": {},
   "outputs": [],
   "source": [
    "print('count',dataframe.count())\n",
    "print('mean',dataframe.mean())\n",
    "print('round of mean',round(dataframe.mean(),2))\n",
    "print('meadian',dataframe.median())\n",
    "print('mode',dataframe.mode())\n",
    "print('min',dataframe.min())\n",
    "print('max',dataframe.max())"
   ]
  },
  {
   "cell_type": "code",
   "execution_count": null,
   "id": "1d1c70e5",
   "metadata": {},
   "outputs": [],
   "source": [
    "age=[20,34,35,12,54]\n",
    "df=pd.DataFrame(age,columns=['age'],index=['mahipal','mouni','shashi','raj','ranga'])\n",
    "print(df)\n",
    "minimum_age=df.min()\n",
    "print(minimum_age)"
   ]
  },
  {
   "cell_type": "code",
   "execution_count": null,
   "id": "dddc8b3b",
   "metadata": {},
   "outputs": [],
   "source": [
    "emp=[['Mahipal',28,300000.50,True],['Rajeshwar',29,40000,False],['suresh',30,40500,False]]\n",
    "print(emp)\n",
    "emp1=pd.DataFrame(emp,columns=['name','age','sal','contractor'],index=['emp10','emp20','emp30'])\n",
    "print(emp1)\n",
    "print(emp1.shape)#(3,4)\n"
   ]
  },
  {
   "cell_type": "code",
   "execution_count": null,
   "id": "47bac8ca",
   "metadata": {},
   "outputs": [],
   "source": [
    "print('columns',emp1.columns)\n",
    "print('index',emp1.index)\n",
    "emp2=emp1.copy()\n",
    "print('**********')\n",
    "print('copy of emp',emp2)"
   ]
  },
  {
   "cell_type": "code",
   "execution_count": null,
   "id": "cb3b5824",
   "metadata": {},
   "outputs": [],
   "source": [
    "emp1.describe()"
   ]
  },
  {
   "cell_type": "code",
   "execution_count": null,
   "id": "ebbc641e",
   "metadata": {},
   "outputs": [],
   "source": [
    "emp1[['name','age']]"
   ]
  },
  {
   "cell_type": "code",
   "execution_count": null,
   "id": "65787efc",
   "metadata": {},
   "outputs": [],
   "source": [
    "emp1[0:2]#satrt,stop-1"
   ]
  },
  {
   "cell_type": "code",
   "execution_count": null,
   "id": "e7e67993",
   "metadata": {},
   "outputs": [],
   "source": [
    "emp1[['name','age']][0:2]"
   ]
  },
  {
   "cell_type": "code",
   "execution_count": null,
   "id": "1dccf6b4",
   "metadata": {},
   "outputs": [],
   "source": [
    "c={'Maths':[56,76,20,30,40,11,12,12,14],'Telugu':[43,73,43,54,65,11,12,12,14],'Social':[54,34,10,20,30,11,12,12,14],'Hindi':[43,34,21,12,32,11,12,12,14]}\n",
    "print(c.get('Maths'))\n",
    "print(c.values())\n",
    "print(c.keys())\n",
    "df2=pd.DataFrame.from_dict(c)\n",
    "print(df2)\n",
    "print('**********')\n",
    "df3=pd.DataFrame.from_records(c)\n",
    "print(df3)\n",
    "df3.head()#First 5 records\n",
    "df3.head(2)#2 records \n",
    "df3.tail()#Last 5 records\n",
    "df3.tail(3)#last 3 records\n"
   ]
  },
  {
   "cell_type": "code",
   "execution_count": null,
   "id": "d801497f",
   "metadata": {},
   "outputs": [],
   "source": [
    "df3['Total']=df3['Hindi']+df3['Maths']+df3['Social']+df3['Telugu']\n",
    "df3['Average']=df3['Total']/4\n",
    "df3\n",
    "\n"
   ]
  },
  {
   "cell_type": "code",
   "execution_count": null,
   "id": "eb4deb73",
   "metadata": {},
   "outputs": [],
   "source": [
    "df4=df3[['Maths','Social']]\n",
    "df4"
   ]
  },
  {
   "cell_type": "code",
   "execution_count": null,
   "id": "7ae8c95c",
   "metadata": {},
   "outputs": [],
   "source": [
    "df3[0:2]"
   ]
  },
  {
   "cell_type": "code",
   "execution_count": null,
   "id": "d16a8672",
   "metadata": {},
   "outputs": [],
   "source": [
    "a=[[10,'Mahipal',28,3000000,'Hyderabad'],[20,'Raj',31,200000,'Bangalore'],[40,'Ram',21,345671,'Chennai']]\n",
    "df4=pd.DataFrame(a,columns=['empid','ename','age','sal','location'])\n",
    "df4"
   ]
  },
  {
   "cell_type": "code",
   "execution_count": null,
   "id": "75da716d",
   "metadata": {},
   "outputs": [],
   "source": [
    "df5=df4[['ename','sal']]\n",
    "df5"
   ]
  },
  {
   "cell_type": "code",
   "execution_count": null,
   "id": "3f177636",
   "metadata": {},
   "outputs": [],
   "source": [
    "df4[0:2]"
   ]
  },
  {
   "cell_type": "code",
   "execution_count": null,
   "id": "db8cf79f",
   "metadata": {},
   "outputs": [],
   "source": [
    "df4['Phone']=['9876','9898','5432']\n",
    "df4"
   ]
  },
  {
   "cell_type": "code",
   "execution_count": null,
   "id": "4255654d",
   "metadata": {},
   "outputs": [],
   "source": [
    "df4.insert(3,'Permanent','P')\n",
    "df4"
   ]
  },
  {
   "cell_type": "code",
   "execution_count": null,
   "id": "f37e7479",
   "metadata": {},
   "outputs": [],
   "source": [
    "df4.insert(7,'allowance',2000)\n",
    "df4"
   ]
  },
  {
   "cell_type": "code",
   "execution_count": null,
   "id": "c03a164d",
   "metadata": {},
   "outputs": [],
   "source": [
    "df4['Total']=df4['sal']+df4['allowance']\n",
    "df4"
   ]
  },
  {
   "cell_type": "code",
   "execution_count": null,
   "id": "cd3f8a0a",
   "metadata": {},
   "outputs": [],
   "source": [
    "fruits=['apple','banana','mango','orange']\n",
    "old_prices=[100,300,200,400]\n",
    "new_prices=[300,200,150,520]\n",
    "df5=pd.DataFrame({'fruit_names':fruits,'2020_prices':old_prices,'2021_prices':new_prices},index={1101,1102,1103,1104})\n",
    "df5"
   ]
  },
  {
   "cell_type": "code",
   "execution_count": null,
   "id": "43332dc5",
   "metadata": {},
   "outputs": [],
   "source": [
    "df5['PriceChange']=df5['2021_prices']-df5['2020_prices']\n",
    "df5"
   ]
  },
  {
   "cell_type": "code",
   "execution_count": null,
   "id": "97eda99f",
   "metadata": {},
   "outputs": [],
   "source": [
    "df5['%Change']=round((df5['PriceChange']/df5['2020_prices'])*100,2)\n",
    "df5"
   ]
  },
  {
   "cell_type": "code",
   "execution_count": null,
   "id": "8c874d4f",
   "metadata": {},
   "outputs": [],
   "source": [
    "!pip install matplotlib"
   ]
  },
  {
   "cell_type": "code",
   "execution_count": null,
   "id": "08a73fcb",
   "metadata": {},
   "outputs": [],
   "source": [
    "import matplotlib.pyplot as plt\n",
    "plt.bar(df5['2020_prices'],df5['2021_prices'])\n",
    "plt.show()"
   ]
  },
  {
   "cell_type": "code",
   "execution_count": null,
   "id": "b2b5543b",
   "metadata": {},
   "outputs": [],
   "source": [
    "print(df5.columns)\n",
    "print(df5.index)\n",
    "df5.describe()\n"
   ]
  },
  {
   "cell_type": "code",
   "execution_count": null,
   "id": "712f4aa8",
   "metadata": {},
   "outputs": [],
   "source": [
    "df5.max()"
   ]
  },
  {
   "cell_type": "code",
   "execution_count": null,
   "id": "828d2d00",
   "metadata": {},
   "outputs": [],
   "source": [
    "df5.min()"
   ]
  },
  {
   "cell_type": "code",
   "execution_count": null,
   "id": "4abb510b",
   "metadata": {},
   "outputs": [],
   "source": [
    "df5.head()\n"
   ]
  },
  {
   "cell_type": "code",
   "execution_count": null,
   "id": "a5bf743c",
   "metadata": {},
   "outputs": [],
   "source": [
    "df5.tail()"
   ]
  },
  {
   "cell_type": "code",
   "execution_count": null,
   "id": "29e60bd1",
   "metadata": {},
   "outputs": [],
   "source": [
    "df5[0:3]#start,stop-1"
   ]
  },
  {
   "cell_type": "code",
   "execution_count": null,
   "id": "8e22540c",
   "metadata": {},
   "outputs": [],
   "source": [
    "df5.to_csv('Fruits_Price_changes.csv')\n"
   ]
  },
  {
   "cell_type": "code",
   "execution_count": null,
   "id": "2ec44731",
   "metadata": {},
   "outputs": [],
   "source": [
    "df5.to_excel('Fruits_Price_changes.xlsx')\n"
   ]
  },
  {
   "cell_type": "code",
   "execution_count": null,
   "id": "0aa908e1",
   "metadata": {},
   "outputs": [],
   "source": [
    "df5.to_json('Fruits_Price_changes.json')"
   ]
  },
  {
   "cell_type": "code",
   "execution_count": null,
   "id": "6b2deea3",
   "metadata": {},
   "outputs": [],
   "source": [
    "import os\n",
    "print(os.getcwd())"
   ]
  },
  {
   "cell_type": "markdown",
   "id": "3008022f",
   "metadata": {},
   "source": [
    "# 18.Admission.csv Pandas Example"
   ]
  },
  {
   "cell_type": "code",
   "execution_count": null,
   "id": "1d217032",
   "metadata": {},
   "outputs": [],
   "source": [
    "import pandas as pd\n",
    "import numpy as np\n",
    "import matplotlib.pyplot as mp\n",
    "import seaborn as sb\n"
   ]
  },
  {
   "cell_type": "code",
   "execution_count": null,
   "id": "bbce1729",
   "metadata": {},
   "outputs": [],
   "source": [
    "df=pd.read_csv(\"admission.csv\")\n",
    "df"
   ]
  },
  {
   "cell_type": "code",
   "execution_count": null,
   "id": "8e4afb70",
   "metadata": {},
   "outputs": [],
   "source": [
    "df.describe()"
   ]
  },
  {
   "cell_type": "code",
   "execution_count": null,
   "id": "9b717b91",
   "metadata": {},
   "outputs": [],
   "source": [
    "df[0:10:2]"
   ]
  },
  {
   "cell_type": "code",
   "execution_count": null,
   "id": "5569d3a9",
   "metadata": {},
   "outputs": [],
   "source": [
    "df[0:10]"
   ]
  },
  {
   "cell_type": "code",
   "execution_count": null,
   "id": "b6220c49",
   "metadata": {},
   "outputs": [],
   "source": [
    "df.info()"
   ]
  },
  {
   "cell_type": "code",
   "execution_count": null,
   "id": "a3d9f8de",
   "metadata": {},
   "outputs": [],
   "source": [
    "df.isnull()#True means null value"
   ]
  },
  {
   "cell_type": "code",
   "execution_count": null,
   "id": "167ce191",
   "metadata": {},
   "outputs": [],
   "source": [
    "df.head()"
   ]
  },
  {
   "cell_type": "code",
   "execution_count": null,
   "id": "9d3d7481",
   "metadata": {},
   "outputs": [],
   "source": [
    "df.tail()"
   ]
  },
  {
   "cell_type": "code",
   "execution_count": null,
   "id": "e74dba6f",
   "metadata": {},
   "outputs": [],
   "source": [
    "df.head(2)"
   ]
  },
  {
   "cell_type": "code",
   "execution_count": null,
   "id": "287eac3b",
   "metadata": {},
   "outputs": [],
   "source": [
    "df.tail(1)"
   ]
  },
  {
   "cell_type": "code",
   "execution_count": null,
   "id": "77a7a412",
   "metadata": {},
   "outputs": [],
   "source": [
    "start=int(input('enter start:'))\n",
    "stop=int(input('enter stop:'))\n",
    "df[start:stop]"
   ]
  },
  {
   "cell_type": "code",
   "execution_count": null,
   "id": "c903e334",
   "metadata": {},
   "outputs": [],
   "source": [
    "df.index"
   ]
  },
  {
   "cell_type": "code",
   "execution_count": null,
   "id": "8f14b879",
   "metadata": {},
   "outputs": [],
   "source": [
    "df.columns"
   ]
  },
  {
   "cell_type": "code",
   "execution_count": null,
   "id": "dca6d32f",
   "metadata": {},
   "outputs": [],
   "source": [
    "for i in df.columns:\n",
    "    print(i)"
   ]
  },
  {
   "cell_type": "code",
   "execution_count": null,
   "id": "6704408a",
   "metadata": {},
   "outputs": [],
   "source": [
    "df.shape"
   ]
  },
  {
   "cell_type": "code",
   "execution_count": null,
   "id": "9530188f",
   "metadata": {},
   "outputs": [],
   "source": [
    "round(df['GRE Score'].mean(),2)"
   ]
  },
  {
   "cell_type": "code",
   "execution_count": null,
   "id": "7a0561b5",
   "metadata": {},
   "outputs": [],
   "source": [
    "df['SOP'].median()"
   ]
  },
  {
   "cell_type": "code",
   "execution_count": null,
   "id": "06930ad0",
   "metadata": {},
   "outputs": [],
   "source": [
    "df[['GRE Score','TOEFL Score']][100:115]"
   ]
  },
  {
   "cell_type": "code",
   "execution_count": null,
   "id": "385de9ea",
   "metadata": {},
   "outputs": [],
   "source": [
    "df.max()"
   ]
  },
  {
   "cell_type": "code",
   "execution_count": null,
   "id": "739a4eed",
   "metadata": {},
   "outputs": [],
   "source": [
    "df[df['GRE Score']>3000]"
   ]
  },
  {
   "cell_type": "code",
   "execution_count": null,
   "id": "0eb4b6af",
   "metadata": {},
   "outputs": [],
   "source": [
    "df['University Rating'].unique()"
   ]
  },
  {
   "cell_type": "code",
   "execution_count": null,
   "id": "475f944c",
   "metadata": {},
   "outputs": [],
   "source": [
    "g=df.groupby(['University Rating']).sum()\n",
    "g"
   ]
  },
  {
   "cell_type": "markdown",
   "id": "e87e77af",
   "metadata": {},
   "source": [
    "# Missing Values"
   ]
  },
  {
   "cell_type": "code",
   "execution_count": null,
   "id": "3c627269",
   "metadata": {},
   "outputs": [],
   "source": [
    "df.isnull() # True means Null"
   ]
  },
  {
   "cell_type": "code",
   "execution_count": null,
   "id": "3a13644d",
   "metadata": {},
   "outputs": [],
   "source": [
    "df.isnull().sum()"
   ]
  },
  {
   "cell_type": "code",
   "execution_count": null,
   "id": "6f89035d",
   "metadata": {},
   "outputs": [],
   "source": [
    "df[df['SOP'].isnull()==True]\n"
   ]
  },
  {
   "cell_type": "code",
   "execution_count": null,
   "id": "d3144a59",
   "metadata": {},
   "outputs": [],
   "source": [
    "df[df['GRE Score'].isnull()==True]"
   ]
  },
  {
   "cell_type": "code",
   "execution_count": null,
   "id": "fe10918a",
   "metadata": {},
   "outputs": [],
   "source": [
    "df['SOP']=df['SOP'].fillna(0)"
   ]
  },
  {
   "cell_type": "code",
   "execution_count": null,
   "id": "90e02e21",
   "metadata": {},
   "outputs": [],
   "source": [
    "df['SOP'].isnull()"
   ]
  },
  {
   "cell_type": "code",
   "execution_count": null,
   "id": "262d597a",
   "metadata": {},
   "outputs": [],
   "source": [
    "df[df['SOP'].isnull()==True]"
   ]
  },
  {
   "cell_type": "code",
   "execution_count": null,
   "id": "5e11cc9e",
   "metadata": {},
   "outputs": [],
   "source": [
    "df.isnull().sum()"
   ]
  },
  {
   "cell_type": "code",
   "execution_count": null,
   "id": "12e3b70c",
   "metadata": {},
   "outputs": [],
   "source": [
    "df[df['GRE Score'].isnull()]"
   ]
  },
  {
   "cell_type": "code",
   "execution_count": null,
   "id": "d5f32a61",
   "metadata": {},
   "outputs": [],
   "source": [
    "df['GRE Score']=df['GRE Score'].fillna(round(df['GRE Score'].mean(),2))\n",
    "df"
   ]
  },
  {
   "cell_type": "code",
   "execution_count": null,
   "id": "3d902785",
   "metadata": {},
   "outputs": [],
   "source": [
    "df[df['GRE Score'].isnull()]"
   ]
  },
  {
   "cell_type": "code",
   "execution_count": null,
   "id": "1be9085f",
   "metadata": {},
   "outputs": [],
   "source": [
    "df.to_excel('Clean_Admission.xlsx')"
   ]
  },
  {
   "cell_type": "markdown",
   "id": "daf3ad82",
   "metadata": {},
   "source": [
    "# DataFrames Merging"
   ]
  },
  {
   "cell_type": "code",
   "execution_count": null,
   "id": "b3fbabe5",
   "metadata": {},
   "outputs": [],
   "source": [
    "df.columns"
   ]
  },
  {
   "cell_type": "code",
   "execution_count": null,
   "id": "d4ab52ed",
   "metadata": {},
   "outputs": [],
   "source": [
    "df_new=df[['Serial No.', 'GRE Score', 'TOEFL Score', 'Chance of Admit ']]\n",
    "df_new"
   ]
  },
  {
   "cell_type": "code",
   "execution_count": null,
   "id": "12fdf048",
   "metadata": {},
   "outputs": [],
   "source": [
    "df_new2=df[['Serial No.', 'SOP', 'LOR ']]\n",
    "df_new2"
   ]
  },
  {
   "cell_type": "code",
   "execution_count": null,
   "id": "67f276b9",
   "metadata": {},
   "outputs": [],
   "source": [
    "df_concat_vertical=pd.concat([df_new,df_new2])#Vertical\n",
    "print(df_concat_vertical)\n",
    "print(df_concat_vertical.shape)"
   ]
  },
  {
   "cell_type": "code",
   "execution_count": null,
   "id": "5a498f8b",
   "metadata": {},
   "outputs": [],
   "source": [
    "df_contact_horizantal=pd.concat([df_new,df_new2],axis=1)\n",
    "df_contact_horizantal"
   ]
  },
  {
   "cell_type": "code",
   "execution_count": null,
   "id": "79ad1e5a",
   "metadata": {},
   "outputs": [],
   "source": [
    "df_merge=pd.merge(df_new,df_new2,on='Serial No.', how = 'inner')\n",
    "df_merge"
   ]
  },
  {
   "cell_type": "markdown",
   "id": "f1c35be3",
   "metadata": {},
   "source": [
    "# Outliers"
   ]
  },
  {
   "cell_type": "code",
   "execution_count": null,
   "id": "cba88f5c",
   "metadata": {},
   "outputs": [],
   "source": [
    "df['GRE Score'].max()"
   ]
  },
  {
   "cell_type": "code",
   "execution_count": null,
   "id": "8e43fdf3",
   "metadata": {},
   "outputs": [],
   "source": [
    "import seaborn as sns\n",
    "sns.distplot(df['GRE Score'])"
   ]
  },
  {
   "cell_type": "code",
   "execution_count": null,
   "id": "11800d13",
   "metadata": {},
   "outputs": [],
   "source": [
    "sns.boxplot(df['SOP'])"
   ]
  },
  {
   "cell_type": "code",
   "execution_count": null,
   "id": "00523287",
   "metadata": {},
   "outputs": [],
   "source": [
    "def outlier(df1):\n",
    "    import pandas as pd\n",
    "    #df1=pd.Series(list)\n",
    "    q1=df1.quantile(0.25)\n",
    "    q3=df1.quantile(0.75)\n",
    "    iqr=q3-q1\n",
    "    left=q1-(1.5*iqr)\n",
    "    right=q3+(1.5*iqr)\n",
    "    ol=[]\n",
    "    for i in df1:\n",
    "        if i<left or i>right:\n",
    "            ol.append(i)\n",
    "    print ('data range', left,'to', right)\n",
    "    if len(ol)>0:\n",
    "        print ('Outliers are ', ol)\n",
    "    else:\n",
    "        print ('There are no outliers in your data')\n",
    "    return"
   ]
  },
  {
   "cell_type": "code",
   "execution_count": null,
   "id": "70afd23c",
   "metadata": {},
   "outputs": [],
   "source": [
    "outlier(df['GRE Score'])"
   ]
  },
  {
   "cell_type": "code",
   "execution_count": null,
   "id": "88dc0c2d",
   "metadata": {},
   "outputs": [],
   "source": [
    "outlier(df['SOP'])"
   ]
  },
  {
   "cell_type": "code",
   "execution_count": null,
   "id": "1ab0af01",
   "metadata": {},
   "outputs": [],
   "source": [
    "df['GRE Score']=df['GRE Score'].mask(df['GRE Score']>380,df['GRE Score'].mean())\n",
    "df['GRE Score']"
   ]
  },
  {
   "cell_type": "code",
   "execution_count": null,
   "id": "f8fd8da5",
   "metadata": {},
   "outputs": [],
   "source": [
    "sns.distplot(df['GRE Score'])#After Replacing outliners"
   ]
  },
  {
   "cell_type": "code",
   "execution_count": null,
   "id": "fbba9914",
   "metadata": {},
   "outputs": [],
   "source": [
    "import matplotlib.pyplot as plt\n",
    "plt.boxplot(df['LOR '])"
   ]
  },
  {
   "cell_type": "code",
   "execution_count": null,
   "id": "2495daf3",
   "metadata": {},
   "outputs": [],
   "source": [
    "outlier(df['LOR '])"
   ]
  },
  {
   "cell_type": "code",
   "execution_count": null,
   "id": "c458d188",
   "metadata": {},
   "outputs": [],
   "source": [
    "df['LOR ']=df['LOR '].mask(df['LOR ']<1.5,df['LOR '].mean())#After removing outlier\n",
    "df['LOR ']"
   ]
  },
  {
   "cell_type": "code",
   "execution_count": null,
   "id": "29335d5e",
   "metadata": {},
   "outputs": [],
   "source": [
    "sns.boxplot(df['LOR ']) "
   ]
  },
  {
   "cell_type": "code",
   "execution_count": null,
   "id": "c1c84928",
   "metadata": {},
   "outputs": [],
   "source": [
    "plt.plot(df['GRE Score'],df['Chance of Admit '],'*')\n",
    "plt.xlabel('GRE Score')\n",
    "plt.ylabel('Chance of Admit')\n",
    "plt.show()\n"
   ]
  },
  {
   "cell_type": "markdown",
   "id": "a46f16a7",
   "metadata": {},
   "source": [
    "# CorelationAnalsys"
   ]
  },
  {
   "cell_type": "code",
   "execution_count": null,
   "id": "3def2636",
   "metadata": {},
   "outputs": [],
   "source": [
    "corr=df.corr()\n",
    "corr"
   ]
  },
  {
   "cell_type": "code",
   "execution_count": null,
   "id": "ab826bb2",
   "metadata": {},
   "outputs": [],
   "source": [
    "sns.heatmap(corr,annot=True,cmap='coolwarm')"
   ]
  },
  {
   "cell_type": "markdown",
   "id": "cf02255c",
   "metadata": {},
   "source": [
    "# 19.Matplotlib"
   ]
  },
  {
   "cell_type": "code",
   "execution_count": null,
   "id": "4e122c71",
   "metadata": {},
   "outputs": [],
   "source": [
    "!pip install matplotlib"
   ]
  },
  {
   "cell_type": "code",
   "execution_count": null,
   "id": "8b3aa941",
   "metadata": {},
   "outputs": [],
   "source": [
    "import pandas as pd\n",
    "import numpy as np\n",
    "import matplotlib.pyplot as plt\n",
    "import seaborn as sb"
   ]
  },
  {
   "cell_type": "code",
   "execution_count": null,
   "id": "31e2b8c0",
   "metadata": {},
   "outputs": [],
   "source": [
    "df=pd.read_csv(\"kc_house_data.csv\")\n",
    "df"
   ]
  },
  {
   "cell_type": "code",
   "execution_count": null,
   "id": "a57207af",
   "metadata": {},
   "outputs": [],
   "source": [
    "df.describe()"
   ]
  },
  {
   "cell_type": "code",
   "execution_count": null,
   "id": "b4be319a",
   "metadata": {},
   "outputs": [],
   "source": [
    "df.head()"
   ]
  },
  {
   "cell_type": "code",
   "execution_count": null,
   "id": "0e03b0e0",
   "metadata": {},
   "outputs": [],
   "source": [
    "df.tail()"
   ]
  },
  {
   "cell_type": "code",
   "execution_count": null,
   "id": "5fa4c441",
   "metadata": {},
   "outputs": [],
   "source": [
    "df.head(2)"
   ]
  },
  {
   "cell_type": "code",
   "execution_count": null,
   "id": "3d0cb21a",
   "metadata": {},
   "outputs": [],
   "source": [
    "df.tail(2)"
   ]
  },
  {
   "cell_type": "code",
   "execution_count": null,
   "id": "127e5f04",
   "metadata": {},
   "outputs": [],
   "source": [
    "df.columns"
   ]
  },
  {
   "cell_type": "code",
   "execution_count": null,
   "id": "de476d27",
   "metadata": {},
   "outputs": [],
   "source": [
    "df.index"
   ]
  },
  {
   "cell_type": "code",
   "execution_count": null,
   "id": "e7a0a135",
   "metadata": {},
   "outputs": [],
   "source": [
    "df[['price','bathrooms']]"
   ]
  },
  {
   "cell_type": "code",
   "execution_count": null,
   "id": "84d2d503",
   "metadata": {},
   "outputs": [],
   "source": [
    "df[['price','bathrooms']][0:10]"
   ]
  },
  {
   "cell_type": "code",
   "execution_count": null,
   "id": "bbaff1f7",
   "metadata": {},
   "outputs": [],
   "source": [
    "df[['price','bathrooms']][0:10:2]"
   ]
  },
  {
   "cell_type": "code",
   "execution_count": null,
   "id": "da25c9cf",
   "metadata": {},
   "outputs": [],
   "source": [
    "df.max()"
   ]
  },
  {
   "cell_type": "code",
   "execution_count": null,
   "id": "8419c8ab",
   "metadata": {},
   "outputs": [],
   "source": [
    "df.mean()"
   ]
  },
  {
   "cell_type": "code",
   "execution_count": null,
   "id": "792bc6c1",
   "metadata": {},
   "outputs": [],
   "source": [
    "df.isnull().sum()"
   ]
  },
  {
   "cell_type": "code",
   "execution_count": null,
   "id": "ecd84a77",
   "metadata": {},
   "outputs": [],
   "source": [
    "def outliers(df1):\n",
    "    q1=df1.quantile(0.25)\n",
    "    q3=df1.quantile(0.75)\n",
    "    diff=q3-q1\n",
    "    left=q1-(1.5*diff)\n",
    "    right=q3+(1.5*diff)\n",
    "    ol=[]\n",
    "    for i in df1:\n",
    "        if i<left or i>right:\n",
    "               ol.append(i)\n",
    "    if(len(ol)>0):\n",
    "        print('outliers in range of',left,'',right)\n",
    "    else:\n",
    "        print('no outliers')\n",
    "    \n",
    "    "
   ]
  },
  {
   "cell_type": "code",
   "execution_count": null,
   "id": "f97b9e81",
   "metadata": {},
   "outputs": [],
   "source": [
    "outliers(df['sqft_lot'])"
   ]
  },
  {
   "cell_type": "code",
   "execution_count": null,
   "id": "9df103cc",
   "metadata": {},
   "outputs": [],
   "source": [
    "df['sqft_lot']=df['sqft_lot'].mask(df['sqft_lot']>15106,df['sqft_lot'].mean())\n",
    "df['sqft_lot']"
   ]
  },
  {
   "cell_type": "code",
   "execution_count": null,
   "id": "db8b0734",
   "metadata": {},
   "outputs": [],
   "source": [
    "df['sqft_lot'].mean()"
   ]
  },
  {
   "cell_type": "code",
   "execution_count": null,
   "id": "98633f7f",
   "metadata": {},
   "outputs": [],
   "source": [
    "plt.boxplot(df['sqft_lot'])"
   ]
  },
  {
   "cell_type": "code",
   "execution_count": null,
   "id": "7fdb30f0",
   "metadata": {},
   "outputs": [],
   "source": [
    "a=[1,2,3,4,5,6,7,8,9,10]\n",
    "b=[10,20,30,40,50,50,60,70,80,100]\n",
    "plt.plot(a,b)\n"
   ]
  },
  {
   "cell_type": "code",
   "execution_count": null,
   "id": "eb7962e9",
   "metadata": {},
   "outputs": [],
   "source": [
    "plt.plot(a,b,'o--y') # o means circles ,s squares,^ downward triangle,- thick,\n",
    "                    #second parameter  r red ,g green ,y yellow"
   ]
  },
  {
   "cell_type": "code",
   "execution_count": null,
   "id": "dd11b16c",
   "metadata": {},
   "outputs": [],
   "source": [
    "c=list(range(10,101,10))\n",
    "plt.title(\"SalesProject\")\n",
    "plt.xlabel(\"no of units\")\n",
    "plt.ylabel(\"sales\")\n",
    "plt.grid()\n",
    "\n",
    "plt.plot(a,c,'--b')\n"
   ]
  },
  {
   "cell_type": "code",
   "execution_count": null,
   "id": "8821249b",
   "metadata": {},
   "outputs": [],
   "source": [
    "plt.plot(('mango','banana','apple'),(100,25,65),'o--g')\n",
    "plt.xlabel('fruits')\n",
    "plt.ylabel('rates')\n",
    "plt.title('project')\n",
    "plt.grid()\n"
   ]
  },
  {
   "cell_type": "code",
   "execution_count": null,
   "id": "0c2d1f73",
   "metadata": {},
   "outputs": [],
   "source": [
    "t=np.arange(0.,5.,0.2)\n",
    "print(t)"
   ]
  },
  {
   "cell_type": "code",
   "execution_count": null,
   "id": "da94c61b",
   "metadata": {},
   "outputs": [],
   "source": [
    "s=t**2\n",
    "print('\\n')\n",
    "print(s)\n",
    "s1=s**2\n",
    "print('\\n')\n",
    "print(s1)\n",
    "s2=s1**2\n",
    "print(s2)"
   ]
  },
  {
   "cell_type": "code",
   "execution_count": null,
   "id": "6e00edf0",
   "metadata": {},
   "outputs": [],
   "source": [
    "t=np.arange(0.,5.,0.2)\n",
    "s1=t**2\n",
    "s2=s1**2\n",
    "s3=s2**2\n",
    "plt.plot(t,s1,'--b',label='Reliance')\n",
    "plt.legend()\n",
    "plt.show()#ends graph\n",
    "plt.plot(t,s2,'--g',label='MoreUperMkt')\n",
    "plt.legend()\n",
    "\n",
    "plt.plot(t,s3,'--r',label='localmarket')\n",
    "plt.legend()"
   ]
  },
  {
   "cell_type": "markdown",
   "id": "71f658f6",
   "metadata": {},
   "source": [
    "# Bar Graph"
   ]
  },
  {
   "cell_type": "code",
   "execution_count": null,
   "id": "c4e73f23",
   "metadata": {},
   "outputs": [],
   "source": [
    "a=[10,20,15]\n",
    "b=[14,2,76]\n",
    "c=[32,43,20]\n",
    "d=[11,12,13]\n",
    "plt.bar(a,b,align='center',color='blue')\n",
    "plt.xlabel('units')\n",
    "plt.ylabel('price')\n",
    "plt.title('barchart')\n",
    "plt.grid()\n",
    "plt.show()\n",
    "\n",
    "plt.bar(c,d,align='edge',color='green')\n",
    "plt.xlabel('units2')\n",
    "plt.ylabel('price2')\n",
    "plt.title('barchart2')\n",
    "plt.grid()\n",
    "plt.show()\n",
    "\n",
    "plt.bar(a,b,align='center',color='yellow')\n",
    "plt.xlabel('units3')\n",
    "plt.ylabel('price3')\n",
    "plt.title('barchart3')\n",
    "plt.bar(c,d,align='center',color='green')\n",
    "plt.grid()\n",
    "plt.show()"
   ]
  },
  {
   "cell_type": "markdown",
   "id": "11828809",
   "metadata": {},
   "source": [
    "# Different colors"
   ]
  },
  {
   "cell_type": "code",
   "execution_count": null,
   "id": "6ac8c04d",
   "metadata": {},
   "outputs": [],
   "source": [
    "plt.bar([1,2,4,6,7,8],[10,34,35,45,56,87],color=list('rgbcyk'),width=0.5,tick_label=list('abcdef'))"
   ]
  },
  {
   "cell_type": "markdown",
   "id": "ecdcb1c6",
   "metadata": {},
   "source": [
    "# ScatterPlot"
   ]
  },
  {
   "cell_type": "code",
   "execution_count": null,
   "id": "58b464ea",
   "metadata": {},
   "outputs": [],
   "source": [
    "a=[2,5,7,3,9,12,34]\n",
    "b=[10,12,54,34,23,15,19]\n",
    "plt.scatter(a,b,marker='*',color='red') #marker='o' '^' '*'\n",
    "plt.xlabel('units')\n",
    "plt.ylabel('price')\n",
    "plt.title('ScatterPlot')"
   ]
  },
  {
   "cell_type": "markdown",
   "id": "85d0156b",
   "metadata": {},
   "source": [
    "# Pie Charts"
   ]
  },
  {
   "cell_type": "code",
   "execution_count": null,
   "id": "3ca96efc",
   "metadata": {},
   "outputs": [],
   "source": [
    "d=['developer','tester','manager','support','analyst']\n",
    "c=['blue','green','red','yellow','orange']\n",
    "s=[20,40,12,50,60]\n",
    "plt.pie(s,labels=d,colors=c,autopct='%1.2f%%')\n",
    "plt.axis()"
   ]
  },
  {
   "cell_type": "code",
   "execution_count": null,
   "id": "820ef4ba",
   "metadata": {},
   "outputs": [],
   "source": [
    "plt.pie(s,labels=d,colors=c,autopct='%1.1f%%')\n",
    "plt.axis('equal')"
   ]
  },
  {
   "cell_type": "code",
   "execution_count": null,
   "id": "d12f2015",
   "metadata": {},
   "outputs": [],
   "source": [
    "distance=(0.1,0,0,0.2,0)\n",
    "plt.pie(s,labels=d,colors=c,autopct='%1.1f%%',explode=distance)\n",
    "plt.axis('equal')"
   ]
  },
  {
   "cell_type": "markdown",
   "id": "5d0eb6fb",
   "metadata": {},
   "source": [
    "# Boxplot"
   ]
  },
  {
   "cell_type": "code",
   "execution_count": null,
   "id": "584dc4b0",
   "metadata": {},
   "outputs": [],
   "source": [
    "y=list(range(100,200,10))\n",
    "print(y)"
   ]
  },
  {
   "cell_type": "code",
   "execution_count": null,
   "id": "d7790ea1",
   "metadata": {},
   "outputs": [],
   "source": [
    "plt.boxplot(y)\n",
    "plt.show()"
   ]
  },
  {
   "cell_type": "markdown",
   "id": "1d980b9f",
   "metadata": {},
   "source": [
    "# ViolenPlot"
   ]
  },
  {
   "cell_type": "code",
   "execution_count": null,
   "id": "192cea78",
   "metadata": {},
   "outputs": [],
   "source": [
    "plt.violinplot(y)\n",
    "plt.show()"
   ]
  },
  {
   "cell_type": "markdown",
   "id": "bbca2734",
   "metadata": {},
   "source": [
    "# 20.DateTime Module"
   ]
  },
  {
   "cell_type": "code",
   "execution_count": null,
   "id": "4c4a0fe1",
   "metadata": {},
   "outputs": [],
   "source": [
    "import datetime\n",
    "import calendar\n",
    "import time"
   ]
  },
  {
   "cell_type": "code",
   "execution_count": null,
   "id": "945be030",
   "metadata": {},
   "outputs": [],
   "source": [
    "print(dir(datetime))"
   ]
  },
  {
   "cell_type": "code",
   "execution_count": null,
   "id": "7ab3ba9c",
   "metadata": {},
   "outputs": [],
   "source": [
    "print(dir(calendar))"
   ]
  },
  {
   "cell_type": "code",
   "execution_count": null,
   "id": "9199a879",
   "metadata": {},
   "outputs": [],
   "source": [
    "print(dir(time))"
   ]
  },
  {
   "cell_type": "code",
   "execution_count": null,
   "id": "5649bc29",
   "metadata": {},
   "outputs": [],
   "source": [
    "print(datetime.datetime.today())#2022-01-04 19:32:34.912734\n",
    "print(datetime.date.today())#2022-01-04\n",
    "type(datetime.datetime.today())#datetime.datetime\n",
    "print(datetime.tzinfo.tzname)"
   ]
  },
  {
   "cell_type": "code",
   "execution_count": null,
   "id": "6ed9e1eb",
   "metadata": {},
   "outputs": [],
   "source": [
    "import pandas as pd\n",
    "import numpy as np\n",
    "date1=pd.date_range(start='2020-01-06',end='2020-01-09')\n",
    "print(date1)\n",
    "df=pd.DataFrame(np.random.rand(4,4), index=date1, columns=['A','B','C','D'])\n",
    "df"
   ]
  },
  {
   "cell_type": "markdown",
   "id": "6e391875",
   "metadata": {},
   "source": [
    "# Time Module"
   ]
  },
  {
   "cell_type": "code",
   "execution_count": null,
   "id": "24c4da81",
   "metadata": {},
   "outputs": [],
   "source": [
    "import time\n",
    "print(dir(time))"
   ]
  },
  {
   "cell_type": "code",
   "execution_count": null,
   "id": "c7d06611",
   "metadata": {},
   "outputs": [],
   "source": [
    "print(time.ctime())\n",
    "print(time.asctime())\n",
    "print(time.localtime())\n",
    "print(time.asctime((2004,12,23, 14, 39, 16, 4, 360,-1)))"
   ]
  },
  {
   "cell_type": "code",
   "execution_count": null,
   "id": "d1adae49",
   "metadata": {},
   "outputs": [],
   "source": [
    "d=datetime.date(2021,12,14)\n",
    "print(d)#2021-12-14\n",
    "print(d.weekday())#1\n",
    "print(d.month)#12\n",
    "print(d.year)#2021"
   ]
  },
  {
   "cell_type": "code",
   "execution_count": null,
   "id": "0788f1b6",
   "metadata": {},
   "outputs": [],
   "source": [
    "t=datetime.date(22,1,5)\n",
    "print(t)\n"
   ]
  },
  {
   "cell_type": "code",
   "execution_count": null,
   "id": "80c61944",
   "metadata": {},
   "outputs": [],
   "source": [
    "import calendar\n",
    "c1=calendar.calendar(2022)\n",
    "print(c1)"
   ]
  },
  {
   "cell_type": "code",
   "execution_count": null,
   "id": "31aafadb",
   "metadata": {},
   "outputs": [],
   "source": [
    "c1=calendar.month(2022,1)\n",
    "print(c1)"
   ]
  },
  {
   "cell_type": "markdown",
   "id": "4056bc27",
   "metadata": {},
   "source": [
    "# 22.Regular Expression\n"
   ]
  },
  {
   "cell_type": "code",
   "execution_count": null,
   "id": "68163ed6",
   "metadata": {},
   "outputs": [],
   "source": [
    "s='mahipal profession is datascientist,he was java lead'\n",
    "s.split()"
   ]
  },
  {
   "cell_type": "code",
   "execution_count": null,
   "id": "938ad692",
   "metadata": {},
   "outputs": [],
   "source": [
    "s1='java is a programming language'\n",
    "s1.split(' ')"
   ]
  },
  {
   "cell_type": "code",
   "execution_count": null,
   "id": "5bd7a65c",
   "metadata": {},
   "outputs": [],
   "source": [
    "search=str(input('enter search of fruit'))\n",
    "for i in search.split():\n",
    "    if(i==search):\n",
    "           print('found')\n",
    "    else:\n",
    "           print('not found')"
   ]
  },
  {
   "cell_type": "code",
   "execution_count": null,
   "id": "1de8e84d",
   "metadata": {},
   "outputs": [],
   "source": [
    "data='''annotatorId\": 2, \"ratingOverall\": 5, \"ratingRoom\": 5, \"author\": \"travellerseattle\", \n",
    "\"hotelId\": \"277882\", \"reviewId\": \"277882:54\", \"ratingLocation\": 4, \"ratingCleanliness\": 5, \n",
    "\"ratingService\": 5, \"ratingBusiness\": 3, \"ratingValue\": 5, \"segmentLabels\": [{\"OTHER\": \"p\"},\n",
    "{\"NOTRELATED\": \"x\"}, {\"OTHER\": \"p\"}, {\"SERVICE\": \"p\"}, {\"ROOMS\": \"p\"}, {\"CLEANLINESS\": \"p\", \n",
    "\"ROOMS\": \"p\"}, {\"FOOD\": \"p\"}, {\"FOOD\": \"p\"}, {\"LOCATION\": \"ip\"}, {\"OTHER\": \"p\"}, {\"OTHER\": \"p\"}, \n",
    "{\"OTHER\": \"p\"}], \"date\": \"May 15, 2007\", \"ratingCheckin\": 5, \"segments\":\n",
    "[\"LOVED THE HAMPTON INN SEAPORT!!!!!!!!!!!!!!!!!!\", \"Just returned from a 3 night stay.\", \n",
    "\"This is a FABULOUS hotel.\", \"The front desk staff, the doormen, the breakfast staff, \n",
    "EVERYONE is incredibly friendly and helpful and warm and welcoming.\", \n",
    "\"The room was fabulous too.\", \"Really comfy beds, great decorating, and super super clean.\", \n",
    "\"The breakfasts are great - fresh fruit, bagels, muffins, hot eggs and sausage, etc.\", \n",
    "\"Good coffee.\", \"Just around the corner from the hotel is a FABULOUS little Italian restaurant - Bon Amici.\", \n",
    "\"Highly recommend it.\", \"I will stay at this hotel everytime I come to New York.\", \n",
    "\"Can't say enough great things about it!!!!!'''"
   ]
  },
  {
   "cell_type": "code",
   "execution_count": null,
   "id": "a78ca658",
   "metadata": {},
   "outputs": [],
   "source": [
    "len(data)"
   ]
  },
  {
   "cell_type": "code",
   "execution_count": null,
   "id": "701b6901",
   "metadata": {},
   "outputs": [],
   "source": [
    "for i in data[5:21]:\n",
    "    print(i)"
   ]
  },
  {
   "cell_type": "code",
   "execution_count": null,
   "id": "2fbc2bb7",
   "metadata": {},
   "outputs": [],
   "source": [
    "import re"
   ]
  },
  {
   "cell_type": "code",
   "execution_count": null,
   "id": "9177ac72",
   "metadata": {},
   "outputs": [],
   "source": [
    "result=re.finditer('.',data)#it reads all characters in the text except newline\n",
    "result\n",
    "for i in result:\n",
    "    print(i)"
   ]
  },
  {
   "cell_type": "code",
   "execution_count": null,
   "id": "a532c00d",
   "metadata": {},
   "outputs": [],
   "source": [
    "result=re.finditer('\\d',data)# \\d prints only digits\n",
    "for i in result:\n",
    "    print(i)"
   ]
  },
  {
   "cell_type": "code",
   "execution_count": null,
   "id": "88f965f7",
   "metadata": {},
   "outputs": [],
   "source": [
    "result=re.finditer('\\d+',data)# \\d+ prints continuous numbers\n",
    "for i in result:\n",
    "    print(i)"
   ]
  },
  {
   "cell_type": "code",
   "execution_count": null,
   "id": "c2c19581",
   "metadata": {},
   "outputs": [],
   "source": [
    "result=re.finditer('\\D',data)# \\D Prints all elements including newline except Digits\n",
    "for i in result:\n",
    "    print(i)"
   ]
  },
  {
   "cell_type": "code",
   "execution_count": null,
   "id": "b2ed0a92",
   "metadata": {},
   "outputs": [],
   "source": [
    "result=re.finditer('\\w',data)# \\w alphabets and numbers\n",
    "for i in result:\n",
    "    print(i)\n"
   ]
  },
  {
   "cell_type": "code",
   "execution_count": null,
   "id": "20837383",
   "metadata": {},
   "outputs": [],
   "source": [
    "for i in re.finditer('\\w+',data):   #contnuous word and continuous word\n",
    "    print(i)\n",
    "   "
   ]
  },
  {
   "cell_type": "code",
   "execution_count": null,
   "id": "ae3033ca",
   "metadata": {},
   "outputs": [],
   "source": [
    "for i in re.finditer('\\W',data):     # \\W prints only special characters\n",
    "    print(i)"
   ]
  },
  {
   "cell_type": "code",
   "execution_count": null,
   "id": "1c153163",
   "metadata": {},
   "outputs": [],
   "source": [
    "for i in re.finditer('\\s',data):      # \\s whitespaces and new line\n",
    "    print(i)"
   ]
  },
  {
   "cell_type": "code",
   "execution_count": null,
   "id": "16d81f2f",
   "metadata": {},
   "outputs": [],
   "source": [
    "for i in re.finditer('\\S',data):    # \\S except whitespace and newline \n",
    "    print(i)"
   ]
  },
  {
   "cell_type": "code",
   "execution_count": null,
   "id": "4b646a9d",
   "metadata": {},
   "outputs": [],
   "source": [
    "data1='i am a data scientist having several years of experience in Python ML and AI'\n",
    "result=re.findall('[scientist]+',data1)\n",
    "result"
   ]
  },
  {
   "cell_type": "code",
   "execution_count": null,
   "id": "b07eefd6",
   "metadata": {},
   "outputs": [],
   "source": [
    "result=re.findall('scientist',data1)\n",
    "for i in result:\n",
    "    print(i)"
   ]
  },
  {
   "cell_type": "code",
   "execution_count": null,
   "id": "0a177d72",
   "metadata": {},
   "outputs": [],
   "source": [
    "result=re.findall('PYTHON',data1,re.IGNORECASE)\n",
    "print(result)"
   ]
  },
  {
   "cell_type": "markdown",
   "id": "5babac3b",
   "metadata": {},
   "source": [
    "# re.match"
   ]
  },
  {
   "cell_type": "code",
   "execution_count": null,
   "id": "60cf8bea",
   "metadata": {},
   "outputs": [],
   "source": [
    "data='''annotatorId\": 2, \"ratingOverall\": 5, \"ratingRoom\": 5, \"author\": \"travellerseattle\", \n",
    "\"hotelId\": \"277882\", \"reviewId\": \"277882:54\", \"ratingLocation\": 4, \"ratingCleanliness\": 5, \n",
    "\"ratingService\": 5, \"ratingBusiness\": 3, \"ratingValue\": 5, \"segmentLabels\": [{\"OTHER\": \"p\"},\n",
    "{\"NOTRELATED\": \"x\"}, {\"OTHER\": \"p\"}, {\"SERVICE\": \"p\"}, {\"ROOMS\": \"p\"}, {\"CLEANLINESS\": \"p\", \n",
    "\"ROOMS\": \"p\"}, {\"FOOD\": \"p\"}, {\"FOOD\": \"p\"}, {\"LOCATION\": \"ip\"}, {\"OTHER\": \"p\"}, {\"OTHER\": \"p\"}, \n",
    "{\"OTHER\": \"p\"}], \"date\": \"May 15, 2007\", \"ratingCheckin\": 5, \"segments\":\n",
    "[\"LOVED THE HAMPTON INN SEAPORT!!!!!!!!!!!!!!!!!!\", \"Just returned from a 3 night stay.\", \n",
    "\"This is a FABULOUS hotel.\", \"The front desk staff, the doormen, the breakfast staff, \n",
    "EVERYONE is incredibly friendly and helpful and warm and welcoming.\", \n",
    "\"The room was fabulous too.\", \"Really comfy beds, great decorating, and super super clean.\", \n",
    "\"The breakfasts are great - fresh fruit, bagels, muffins, hot eggs and sausage, etc.\", \n",
    "\"Good coffee.\", \"Just around the corner from the hotel is a FABULOUS little Italian restaurant - Bon Amici.\", \n",
    "\"Highly recommend it.\", \"I will stay at this hotel everytime I come to New York.\", \n",
    "\"Can't say enough great things about it!!!!!'''\n"
   ]
  },
  {
   "cell_type": "code",
   "execution_count": null,
   "id": "ff89dd3a",
   "metadata": {},
   "outputs": [],
   "source": [
    "obj=re.match('ann',data)\n",
    "print(obj)\n",
    "print('\\n')\n",
    "\n",
    "obj2=re.match('author',data)\n",
    "print(obj2)"
   ]
  },
  {
   "cell_type": "markdown",
   "id": "68c0c4e3",
   "metadata": {},
   "source": [
    "# re.search()"
   ]
  },
  {
   "cell_type": "code",
   "execution_count": null,
   "id": "4fd78b02",
   "metadata": {},
   "outputs": [],
   "source": [
    "obj2=re.search('author',data)\n",
    "print(obj2)"
   ]
  },
  {
   "cell_type": "code",
   "execution_count": null,
   "id": "a710e91b",
   "metadata": {},
   "outputs": [],
   "source": [
    "print(re.search('room',data))"
   ]
  },
  {
   "cell_type": "markdown",
   "id": "99af0eee",
   "metadata": {},
   "source": [
    "# re.findall()"
   ]
  },
  {
   "cell_type": "code",
   "execution_count": null,
   "id": "cf53ade8",
   "metadata": {},
   "outputs": [],
   "source": [
    "print(re.findall('FOOD',data))\n",
    "print(len(re.findall('FOOD',data)))"
   ]
  },
  {
   "cell_type": "code",
   "execution_count": null,
   "id": "60e370cc",
   "metadata": {},
   "outputs": [],
   "source": [
    "print(re.findall('ROOMS',data,re.IGNORECASE))"
   ]
  },
  {
   "cell_type": "markdown",
   "id": "c138024d",
   "metadata": {},
   "source": [
    "# re.sub()"
   ]
  },
  {
   "cell_type": "code",
   "execution_count": null,
   "id": "f6a73b8e",
   "metadata": {},
   "outputs": [],
   "source": [
    "data1='mahipal is java developer'\n",
    "print(re.sub('java','python',data1))"
   ]
  },
  {
   "cell_type": "markdown",
   "id": "e4df6ab5",
   "metadata": {},
   "source": [
    "# re.split()"
   ]
  },
  {
   "cell_type": "code",
   "execution_count": null,
   "id": "fae16b0a",
   "metadata": {},
   "outputs": [],
   "source": [
    "data3='''Just returned from a 3 night stay.\", is \"This is a FABULOUS hotel.\", \n",
    "\"The front desk staff, the doormen, the breakfast staff, is\n",
    "EVERYONE is incredibly friendly and is helpful and warm and welcoming.\", \n",
    "\"The room was fabulous too.\", \"Really comfy beds, is great decorating, and is super super clean.\", \n",
    "\"The breakfasts are great - fresh fruit,is bagels, muffins, is hot eggs and sausage, etc.'''\n",
    "print(re.split(' ',data3))\n"
   ]
  },
  {
   "cell_type": "markdown",
   "id": "5735ad38",
   "metadata": {},
   "source": []
  },
  {
   "cell_type": "code",
   "execution_count": null,
   "id": "1894ad68",
   "metadata": {},
   "outputs": [],
   "source": []
  }
 ],
 "metadata": {
  "kernelspec": {
   "display_name": "Python 3",
   "language": "python",
   "name": "python3"
  },
  "language_info": {
   "codemirror_mode": {
    "name": "ipython",
    "version": 3
   },
   "file_extension": ".py",
   "mimetype": "text/x-python",
   "name": "python",
   "nbconvert_exporter": "python",
   "pygments_lexer": "ipython3",
   "version": "3.8.8"
  }
 },
 "nbformat": 4,
 "nbformat_minor": 5
}
